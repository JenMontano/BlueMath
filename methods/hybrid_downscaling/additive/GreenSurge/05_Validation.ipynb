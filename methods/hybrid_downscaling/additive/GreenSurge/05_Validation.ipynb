{
 "cells": [
  {
   "cell_type": "code",
   "execution_count": null,
   "id": "9f0f1596",
   "metadata": {},
   "outputs": [],
   "source": [
    "import xarray as xr\n",
    "\n",
    "ds_GFD_info = xr.open_dataset(\n",
    "    \"/home/grupos/geocean/faugeree/BlueMath/methods/hybrid_downscaling/additive/GreenSurge/outputs/GreenSurge_Tonga_info_updated.nc\",\n",
    "    decode_times=False,\n",
    ")\n",
    "ds_GFD_info"
   ]
  },
  {
   "cell_type": "markdown",
   "id": "0a9dce8e",
   "metadata": {},
   "source": [
    "<div style=\"border: 1px solid #cce5ff; background-color: #e9f7fe; padding: 15px; border-radius: 6px; font-family: sans-serif;\">\n",
    "  <strong>🔹 Model validation</strong><br><br>\n",
    "\n",
    "  The figures below show the maps of a given time and the swath maps of wind setup resulting from dynamic simulations with the Shallow Water Equation (SWE) model Delft3D (left panels) and from the GreenSurge aproach (right panels). These figures illustrate the importance of the wind setup in shallow water areas close to shore (it reaches values up to 0.2m whithin this case) and de acuracy of the GreenSurge approach compared to dynamic simulations.\n",
    "</div>"
   ]
  },
  {
   "cell_type": "code",
   "execution_count": null,
   "id": "562cb846",
   "metadata": {},
   "outputs": [],
   "source": [
    "xds_GS_wind =xr.open_dataset(\"/lustre/geocean/DATA/extra_work/faugeree/Tonga_GreenSurge/GreenSurge_Postprocess/GreenSurge_wind_HAROLD2020.nc\")\n",
    "\n",
    "ds_WL_dynamic_WindSetUp = xr.open_dataset(\n",
    "    \"/home/grupos/geocean/faugeree/BlueMath/methods/hybrid_downscaling/additive/GreenSurge/inputs/GreenSurge_GFDcase_map.nc\"\n",
    ")"
   ]
  },
  {
   "cell_type": "code",
   "execution_count": null,
   "id": "aa9b7469",
   "metadata": {},
   "outputs": [],
   "source": [
    "from bluemath_tk.additive.greensurge import plot_GS_vs_dynamic_windsetup_swath\n",
    "\n",
    "plot_GS_vs_dynamic_windsetup_swath(\n",
    "    xds_GS_wind, ds_WL_dynamic_WindSetUp, ds_GFD_info, vmin=0, vmax=0.3\n",
    ")"
   ]
  },
  {
   "cell_type": "code",
   "execution_count": null,
   "id": "26a398b7",
   "metadata": {},
   "outputs": [],
   "source": [
    "from bluemath_tk.additive.greensurge import plot_GS_vs_dynamic_windsetup\n",
    "\n",
    "plot_GS_vs_dynamic_windsetup(\n",
    "    xds_GS_wind,\n",
    "    ds_WL_dynamic_WindSetUp,\n",
    "    ds_GFD_info,\n",
    "    ds_WL_dynamic_WindSetUp.time[160].values,\n",
    ")"
   ]
  },
  {
   "cell_type": "markdown",
   "id": "b7f377bf",
   "metadata": {},
   "source": [
    "<div style=\"border: 1px solid #cce5ff; background-color: #e9f7fe; padding: 15px; border-radius: 6px; font-family: sans-serif;\">\n",
    "  <strong>🔹 Inverse Barometer</strong><br><br>\n",
    "\n",
    "  The third stage for any TC event study consist of turning pressure differences into sea level rises and falls using IB methodology which take into account the correlation 1mb-1cm.\n",
    "</div>\n"
   ]
  },
  {
   "cell_type": "code",
   "execution_count": null,
   "id": "36d898d1",
   "metadata": {},
   "outputs": [],
   "source": [
    "from bluemath_tk.additive.greensurge import pressure_to_IB\n",
    "\n",
    "ds_WL_GS_IB = pressure_to_IB(xds_vortex_GS)"
   ]
  },
  {
   "cell_type": "code",
   "execution_count": null,
   "id": "874c6b2a",
   "metadata": {},
   "outputs": [],
   "source": [
    "from bluemath_tk.additive.greensurge import plot_GS_TG_validation_timeseries\n",
    "\n",
    "tide_gauge = xr.open_dataset(\n",
    "    \"/home/grupos/geocean/faugeree/BlueMath/methods/hybrid_downscaling/additive/GreenSurge/inputs/TG_HAROLD2020_Tongatapu.nc\"\n",
    ")\n",
    "\n",
    "plot_GS_TG_validation_timeseries(\n",
    "    xds_GS_wind,\n",
    "    ds_WL_GS_IB,\n",
    "    ds_WL_dynamic_WindSetUp,\n",
    "    tide_gauge,\n",
    "    ds_GFD_info,\n",
    ")"
   ]
  }
 ],
 "metadata": {
  "language_info": {
   "name": "python"
  }
 },
 "nbformat": 4,
 "nbformat_minor": 5
}
