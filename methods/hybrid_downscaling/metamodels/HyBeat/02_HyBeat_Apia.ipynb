{
 "cells": [
  {
   "cell_type": "code",
   "execution_count": 17,
   "id": "d53d411c",
   "metadata": {},
   "outputs": [],
   "source": [
    "import pandas as pd\n",
    "import xarray as xr\n",
    "import numpy as np\n",
    "import pickle\n",
    "\n",
    "from bluemath_tk.datamining.pca import PCA\n",
    "from bluemath_tk.interpolation.rbf import RBF"
   ]
  },
  {
   "cell_type": "code",
   "execution_count": 18,
   "id": "9f800634",
   "metadata": {},
   "outputs": [],
   "source": [
    "#### Load project Assests\n",
    "mda_df = pd.read_csv('assets/mda_df.csv',index_col=0)\n",
    "case_library = xr.open_dataset('/lustre/geocean/WORK/users/Pablo/XBeachCases/case_library.nc')"
   ]
  },
  {
   "cell_type": "code",
   "execution_count": 19,
   "id": "4232bf0a",
   "metadata": {},
   "outputs": [],
   "source": [
    "vars_rec = ['zs_mean','zs_var']\n",
    "vars_mda = ['Hs','Steepness','Dir','SWL']"
   ]
  },
  {
   "cell_type": "markdown",
   "id": "9f433e96",
   "metadata": {},
   "source": [
    "#### Principal Component Analysis And Radial basis Function interpolation"
   ]
  },
  {
   "cell_type": "code",
   "execution_count": 20,
   "id": "1312d37b",
   "metadata": {},
   "outputs": [],
   "source": [
    "case_library = case_library.assign_coords({\n",
    "    \"y\": (\"y\", np.arange(len(case_library.y))),  \n",
    "    \"x\": (\"x\", np.arange(len(case_library.x)))\n",
    "}).set_coords([\"y\", \"x\"])  # Make them coordinates, not dimensions\n",
    "\n",
    "n_cells_remove_water=50\n",
    "n_cells_remove_sides_1=40\n",
    "n_cells_remove_sides_2=30\n",
    "\n",
    "case_library = case_library.isel(x=np.arange(n_cells_remove_water,len(case_library.x), 1)) #Remove water contour\n",
    "case_library = case_library.isel(y=np.arange(n_cells_remove_sides_1,len(case_library.y)-n_cells_remove_sides_2, 1)) #Remove lateral contour\n",
    "\n",
    "globalx_values = case_library.globalx.values\n",
    "globaly_values = case_library.globaly.values"
   ]
  },
  {
   "cell_type": "code",
   "execution_count": 22,
   "id": "ecbf0d24",
   "metadata": {},
   "outputs": [
    {
     "name": "stdout",
     "output_type": "stream",
     "text": [
      "\n",
      "        -------------------------------------------------------------------\n",
      "        | Initializing PCA reduction model with the following parameters:\n",
      "        |    - n_components: 0.99\n",
      "        |    - is_incremental: False\n",
      "        | For more information, please refer to the documentation.\n",
      "        -------------------------------------------------------------------\n",
      "        \n",
      "\n",
      "        ---------------------------------------------------------------------------------\n",
      "        | Initializing RBF interpolation model with the following parameters:\n",
      "        |    - sigma_min: 0.001\n",
      "        |    - sigma_max: 0.1\n",
      "        |    - sigma_diff: 0.0001\n",
      "        |    - sigma_opt: None\n",
      "        |    - kernel: gaussian\n",
      "        |    - smooth: 1e-05\n",
      "        | For more information, please refer to the documentation.\n",
      "        | Recommended lecture: https://link.springer.com/article/10.1023/A:1018975909870\n",
      "        ---------------------------------------------------------------------------------\n",
      "        \n",
      "\n",
      "        -------------------------------------------------------------------\n",
      "        | Initializing PCA reduction model with the following parameters:\n",
      "        |    - n_components: 0.99\n",
      "        |    - is_incremental: False\n",
      "        | For more information, please refer to the documentation.\n",
      "        -------------------------------------------------------------------\n",
      "        \n",
      "\n",
      "        ---------------------------------------------------------------------------------\n",
      "        | Initializing RBF interpolation model with the following parameters:\n",
      "        |    - sigma_min: 0.001\n",
      "        |    - sigma_max: 0.1\n",
      "        |    - sigma_diff: 0.0001\n",
      "        |    - sigma_opt: None\n",
      "        |    - kernel: gaussian\n",
      "        |    - smooth: 1e-05\n",
      "        | For more information, please refer to the documentation.\n",
      "        | Recommended lecture: https://link.springer.com/article/10.1023/A:1018975909870\n",
      "        ---------------------------------------------------------------------------------\n",
      "        \n"
     ]
    }
   ],
   "source": [
    "for var in vars_rec:\n",
    "\n",
    "    pca = PCA(\n",
    "        n_components=0.99,\n",
    "        is_incremental=False,\n",
    "        debug=False,)\n",
    "\n",
    "    pca.fit(\n",
    "        data=case_library,\n",
    "        vars_to_stack=[var],\n",
    "        coords_to_stack=[\"y\", \"x\"],\n",
    "        pca_dim_for_rows=\"case_num\")\n",
    "    \n",
    "    pcs = pca.transform(data=case_library)\n",
    "    pcs.to_netcdf(f'assets/pca_rfb_objects/{var}_pcs.nc')\n",
    "\n",
    "    with open(f'assets/pca_rfb_objects/{var}_pca_ob.pkl', 'wb') as file:\n",
    "        pickle.dump(pca, file)\n",
    "\n",
    "    rbf = RBF()\n",
    "\n",
    "    target = pd.DataFrame(pcs['PCs'].values)\n",
    "\n",
    "    rbf.fit(\n",
    "        subset_data=mda_df[['Hs', 'Steepness', 'Dir', 'SWL']],\n",
    "        subset_directional_variables=[],\n",
    "        target_data=target,\n",
    "        normalize_target_data=True,\n",
    "        iteratively_update_sigma=True)\n",
    "    \n",
    "    with open(f'assets/pca_rfb_objects/{var}_rbf_ob.pkl', 'wb') as file:\n",
    "        pickle.dump(rbf, file)"
   ]
  },
  {
   "cell_type": "code",
   "execution_count": null,
   "id": "27d5c00c",
   "metadata": {},
   "outputs": [],
   "source": []
  }
 ],
 "metadata": {
  "kernelspec": {
   "display_name": "Python 3",
   "language": "python",
   "name": "python3"
  },
  "language_info": {
   "codemirror_mode": {
    "name": "ipython",
    "version": 3
   },
   "file_extension": ".py",
   "mimetype": "text/x-python",
   "name": "python",
   "nbconvert_exporter": "python",
   "pygments_lexer": "ipython3",
   "version": "3.12.0"
  }
 },
 "nbformat": 4,
 "nbformat_minor": 5
}
