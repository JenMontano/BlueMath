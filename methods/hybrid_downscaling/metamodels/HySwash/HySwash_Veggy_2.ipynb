{
 "cells": [
  {
   "cell_type": "markdown",
   "metadata": {},
   "source": [
    "# HySwash: A hybrid method for nearshore wave processes\n",
    "\n",
    "![sketch](./assets/hyswash-sketch.png)"
   ]
  },
  {
   "cell_type": "markdown",
   "metadata": {},
   "source": [
    "If you want to run this notebook using the pickle files exported in Part 1, execute the code below. Otherwise, you can skip it."
   ]
  },
  {
   "cell_type": "code",
   "execution_count": null,
   "metadata": {},
   "outputs": [],
   "source": [
    "import requests\n",
    "import tarfile\n",
    "import os\n",
    "\n",
    "url = \"http://personales.unican.es/fernanqv/ChySwash_exported.tar.gz\"\n",
    "response = requests.get(url, stream=True)\n",
    "file = tarfile.open(fileobj=response.raw, mode=\"r|gz\")\n",
    "file.extractall(path=os.getcwd())"
   ]
  },
  {
   "cell_type": "code",
   "execution_count": 1,
   "metadata": {},
   "outputs": [],
   "source": [
    "import os\n",
    "import os.path as op\n",
    "import numpy as np\n",
    "import utils.plotting\n",
    "import bluemath_tk.topo_bathy.profiles\n",
    "from bluemath_tk.datamining.lhs import LHS\n",
    "from bluemath_tk.datamining.mda import MDA\n",
    "from bluemath_tk.waves.series import waves_dispersion \n",
    "from bluemath_tk.wrappers.swash.swash_wrapper import HySwashVeggyModelWrapper\n",
    "from bluemath_tk.core.io import load_model\n",
    "import xarray as xr\n",
    "\n",
    "root_dir = os.getcwd()\n",
    "#output_dir = \"/discos/rapido/outputVeggy\"\n",
    "output_dir = \"/lustre/geocean/DATA/hidronas1/valva/Veggy_topo_alba\"\n",
    "templates_dir = os.path.join(root_dir, \"templates\", \"VeggyBig\")\n",
    "export_dir = op.join(root_dir, \"HyVeggy_exported\")\n",
    "\n",
    "variables_to_analyse_in_metamodel = [\"Hs\", \"Hs_L0\", \"WL\",\"vegetation_height\",\"plants_density\"]\n",
    "lhs_parameters = {\n",
    "    \"num_dimensions\": 5,\n",
    "    \"num_samples\": 10000,\n",
    "    \"dimensions_names\": variables_to_analyse_in_metamodel,\n",
    "    \"lower_bounds\": [0.5, 0.005, 0, 0, 0],\n",
    "    \"upper_bounds\": [2, 0.05, 1, 1.5, 1000],\n",
    "}\n",
    "\n",
    "depth = np.loadtxt(os.path.join(templates_dir, \"depth.bot\"))"
   ]
  },
  {
   "cell_type": "markdown",
   "metadata": {},
   "source": [
    "Load swash_model and mda from a pickle file and postprocessed_output NetCDF file"
   ]
  },
  {
   "cell_type": "code",
   "execution_count": 2,
   "metadata": {},
   "outputs": [],
   "source": [
    "mda=load_model(op.join(export_dir, \"mda_model.pkl\"))\n",
    "swash_model=load_model(op.join(export_dir, \"swash_model.pkl\"))\n",
    "postprocessed_output = xr.open_dataset(op.join(output_dir, \"output_postprocessed.nc\"))\n",
    "postprocessed_clean = xr.open_dataset(op.join(output_dir, \"output_postprocessed_clean.nc\"))"
   ]
  },
  {
   "cell_type": "markdown",
   "metadata": {},
   "source": [
    "## 5. Reconstruction: Principal Component Analysis (PCA) & Radial Basis Fucntions (RBF)\n",
    "\n",
    "The reconstruction of the time series of wave parameters in the position of the buoy is carried out by an interpolation technique based on radial basis functions (RBF), a scheme wich is very convenient for scatter and multivariate data. The RBF approximation has been applied successfully in many fields, usually with better results than other interpolation methods (Hardy, 1990).\n",
    "    \n",
    "Suppose that $f=f(x)$ is the real-valued function that we want to approximate. We are given M scattered data points $\\{x_1,..., x_M\\}$ of dimension $\\textit{n}$ and the associated real function values $\\{f_1, ..., f_M\\}$, being $f_i = f(x_j), j = 1,...,M$. The RBF interpolation method consists of a weighted sum of radially symmetric basic functions located at the data points. The approximation function is assumed to be of the form:\n",
    "$$RBF(x) = p(x) + \\sum\\limits_{j=1}^M a_j\\Phi{\\large (}{\\large \\parallel}{x - x_j}{\\large \\parallel}{\\large )}$$"
   ]
  },
  {
   "cell_type": "code",
   "execution_count": null,
   "metadata": {},
   "outputs": [],
   "source": [
    "from bluemath_tk.datamining.pca import PCA\n",
    "from bluemath_tk.interpolation.rbf import RBF\n",
    "\n",
    "postprocessed_output=postprocessed_clean.copy(deep=True)\n",
    "\n",
    "# Apply PCA to the postprocessed output\n",
    "pca = PCA()\n",
    "_pcs_ds = pca.fit_transform(\n",
    "    data=postprocessed_output,\n",
    "    vars_to_stack=[\"Hs\"],\n",
    "    coords_to_stack=[\"Xp\"],\n",
    "    pca_dim_for_rows=\"case_num\",\n",
    "    value_to_replace_nans={\"Hs\": 0.0},\n",
    ")\n",
    "\n",
    "# Apply RBF reconstruction\n",
    "rbf = RBF()\n",
    "rbf.fit(\n",
    "    subset_data=mda.centroids.iloc[postprocessed_output[\"case_num\"].values, :],\n",
    "    target_data=pca.pcs_df,\n",
    ")\n",
    "\n",
    "pca.save_model(\n",
    "    model_path=op.join(export_dir, \"pca_model.pkl\"),\n",
    ")\n",
    "rbf.save_model(\n",
    "    model_path=op.join(export_dir, \"rbf_model.pkl\"),\n",
    ")"
   ]
  },
  {
   "cell_type": "code",
   "execution_count": null,
   "metadata": {},
   "outputs": [],
   "source": [
    "pca=load_model(op.join(export_dir, \"pca_model.pkl\"))\n",
    "rbf=load_model(op.join(export_dir, \"rbf_model.pkl\"))\n"
   ]
  },
  {
   "cell_type": "code",
   "execution_count": null,
   "metadata": {},
   "outputs": [
    {
     "data": {
      "application/vnd.jupyter.widget-view+json": {
       "model_id": "aa9b8944a7284958b9f87e474985584c",
       "version_major": 2,
       "version_minor": 0
      },
      "text/plain": [
       "interactive(children=(FloatSlider(value=1.0618101782710436, description='Hs', max=2.0, min=0.5, step=0.15), Fl…"
      ]
     },
     "metadata": {},
     "output_type": "display_data"
    },
    {
     "data": {
      "text/plain": [
       "<function utils.plotting.show_graph_for_different_parameters.<locals>.update_plot(Hs, Hs_L0, WL, vegetation_height, plants_density)>"
      ]
     },
     "execution_count": 5,
     "metadata": {},
     "output_type": "execute_result"
    }
   ],
   "source": [
    "from utils.plotting import show_graph_for_different_parameters\n",
    "show_graph_for_different_parameters(pca=pca, rbf=rbf,lhs_parameters=lhs_parameters)"
   ]
  },
  {
   "cell_type": "code",
   "execution_count": 50,
   "metadata": {},
   "outputs": [
    {
     "ename": "ValueError",
     "evalue": "operands could not be broadcast together with shapes (100, 1, 3) (1, 819, 5)",
     "output_type": "error",
     "traceback": [
      "\u001b[0;31m---------------------------------------------------------------------------\u001b[0m",
      "\u001b[0;31mValueError\u001b[0m                                Traceback (most recent call last)",
      "Cell \u001b[0;32mIn[50], line 3\u001b[0m\n\u001b[1;32m      1\u001b[0m \u001b[38;5;28;01mfrom\u001b[39;00m\u001b[38;5;250m \u001b[39m\u001b[38;5;21;01mutils\u001b[39;00m\u001b[38;5;21;01m.\u001b[39;00m\u001b[38;5;21;01mplotting\u001b[39;00m\u001b[38;5;250m \u001b[39m\u001b[38;5;28;01mimport\u001b[39;00m show_graph_for_all_vegetations\n\u001b[0;32m----> 3\u001b[0m \u001b[43mshow_graph_for_all_vegetations\u001b[49m\u001b[43m(\u001b[49m\u001b[43mpca\u001b[49m\u001b[38;5;241;43m=\u001b[39;49m\u001b[43mpca\u001b[49m\u001b[43m,\u001b[49m\u001b[43m \u001b[49m\u001b[43mrbf\u001b[49m\u001b[38;5;241;43m=\u001b[39;49m\u001b[43mrbf\u001b[49m\u001b[43m,\u001b[49m\u001b[43m \u001b[49m\u001b[43mdepth\u001b[49m\u001b[38;5;241;43m=\u001b[39;49m\u001b[43mdepth\u001b[49m\u001b[43m,\u001b[49m\u001b[43m \u001b[49m\u001b[43mhs\u001b[49m\u001b[38;5;241;43m=\u001b[39;49m\u001b[38;5;241;43m2.0\u001b[39;49m\u001b[43m,\u001b[49m\u001b[43m \u001b[49m\u001b[43mhs_l0\u001b[49m\u001b[38;5;241;43m=\u001b[39;49m\u001b[38;5;241;43m0.02\u001b[39;49m\u001b[43m)\u001b[49m\n",
      "File \u001b[0;32m/vols/abedul/home/grupos/valvanuz/HySwash/BlueMath/methods/hybrid_downscaling/metamodels/HySwash/utils/plotting.py:165\u001b[0m, in \u001b[0;36mshow_graph_for_all_vegetations\u001b[0;34m(pca, rbf, depth, hs, hs_l0)\u001b[0m\n\u001b[1;32m    156\u001b[0m df_dataset_same_hs \u001b[38;5;241m=\u001b[39m pd\u001b[38;5;241m.\u001b[39mDataFrame(\n\u001b[1;32m    157\u001b[0m     data\u001b[38;5;241m=\u001b[39m{\n\u001b[1;32m    158\u001b[0m         \u001b[38;5;124m\"\u001b[39m\u001b[38;5;124mHs\u001b[39m\u001b[38;5;124m\"\u001b[39m: np\u001b[38;5;241m.\u001b[39mrepeat(hs, \u001b[38;5;241m100\u001b[39m),\n\u001b[0;32m   (...)\u001b[0m\n\u001b[1;32m    161\u001b[0m     }\n\u001b[1;32m    162\u001b[0m )\n\u001b[1;32m    164\u001b[0m \u001b[38;5;66;03m# Spatial Reconstruction\u001b[39;00m\n\u001b[0;32m--> 165\u001b[0m predicted_hs \u001b[38;5;241m=\u001b[39m \u001b[43mrbf\u001b[49m\u001b[38;5;241;43m.\u001b[39;49m\u001b[43mpredict\u001b[49m\u001b[43m(\u001b[49m\u001b[43mdataset\u001b[49m\u001b[38;5;241;43m=\u001b[39;49m\u001b[43mdf_dataset_same_hs\u001b[49m\u001b[43m)\u001b[49m\n\u001b[1;32m    167\u001b[0m predicted_hs_ds \u001b[38;5;241m=\u001b[39m xr\u001b[38;5;241m.\u001b[39mDataset(\n\u001b[1;32m    168\u001b[0m     {\n\u001b[1;32m    169\u001b[0m         \u001b[38;5;124m\"\u001b[39m\u001b[38;5;124mPCs\u001b[39m\u001b[38;5;124m\"\u001b[39m: ([\u001b[38;5;124m\"\u001b[39m\u001b[38;5;124mcase_num\u001b[39m\u001b[38;5;124m\"\u001b[39m, \u001b[38;5;124m\"\u001b[39m\u001b[38;5;124mn_component\u001b[39m\u001b[38;5;124m\"\u001b[39m], predicted_hs\u001b[38;5;241m.\u001b[39mvalues),\n\u001b[0;32m   (...)\u001b[0m\n\u001b[1;32m    174\u001b[0m     },\n\u001b[1;32m    175\u001b[0m )\n\u001b[1;32m    177\u001b[0m \u001b[38;5;66;03m# Get reconstructed Hs\u001b[39;00m\n",
      "File \u001b[0;32m/vols/abedul/home/grupos/valvanuz/HySwash/BlueMath_tk/bluemath_tk/interpolation/rbf.py:968\u001b[0m, in \u001b[0;36mRBF.predict\u001b[0;34m(self, dataset, num_workers)\u001b[0m\n\u001b[1;32m    965\u001b[0m     num_workers \u001b[38;5;241m=\u001b[39m \u001b[38;5;28mself\u001b[39m\u001b[38;5;241m.\u001b[39mnum_workers\n\u001b[1;32m    967\u001b[0m \u001b[38;5;28mself\u001b[39m\u001b[38;5;241m.\u001b[39mlogger\u001b[38;5;241m.\u001b[39minfo(\u001b[38;5;124m\"\u001b[39m\u001b[38;5;124mReconstructing data using fitted coefficients.\u001b[39m\u001b[38;5;124m\"\u001b[39m)\n\u001b[0;32m--> 968\u001b[0m interpolated_target \u001b[38;5;241m=\u001b[39m \u001b[38;5;28;43mself\u001b[39;49m\u001b[38;5;241;43m.\u001b[39;49m\u001b[43m_rbf_interpolate\u001b[49m\u001b[43m(\u001b[49m\n\u001b[1;32m    969\u001b[0m \u001b[43m    \u001b[49m\u001b[43mdataset\u001b[49m\u001b[38;5;241;43m=\u001b[39;49m\u001b[43mdataset\u001b[49m\u001b[43m,\u001b[49m\u001b[43m \u001b[49m\u001b[43mnum_workers\u001b[49m\u001b[38;5;241;43m=\u001b[39;49m\u001b[43mnum_workers\u001b[49m\n\u001b[1;32m    970\u001b[0m \u001b[43m\u001b[49m\u001b[43m)\u001b[49m\n\u001b[1;32m    971\u001b[0m \u001b[38;5;28;01mif\u001b[39;00m \u001b[38;5;28mself\u001b[39m\u001b[38;5;241m.\u001b[39mis_target_normalized:\n\u001b[1;32m    972\u001b[0m     \u001b[38;5;28mself\u001b[39m\u001b[38;5;241m.\u001b[39mlogger\u001b[38;5;241m.\u001b[39minfo(\u001b[38;5;124m\"\u001b[39m\u001b[38;5;124mDenormalizing target data\u001b[39m\u001b[38;5;124m\"\u001b[39m)\n",
      "File \u001b[0;32m/vols/abedul/home/grupos/valvanuz/HySwash/BlueMath_tk/bluemath_tk/interpolation/rbf.py:822\u001b[0m, in \u001b[0;36mRBF._rbf_interpolate\u001b[0;34m(self, dataset, num_workers)\u001b[0m\n\u001b[1;32m    820\u001b[0m     \u001b[38;5;28;01mfor\u001b[39;00m i_var, target_var \u001b[38;5;129;01min\u001b[39;00m \u001b[38;5;28menumerate\u001b[39m(\u001b[38;5;28mself\u001b[39m\u001b[38;5;241m.\u001b[39mtarget_processed_variables):\n\u001b[1;32m    821\u001b[0m         \u001b[38;5;28mself\u001b[39m\u001b[38;5;241m.\u001b[39mlogger\u001b[38;5;241m.\u001b[39minfo(\u001b[38;5;124mf\u001b[39m\u001b[38;5;124m\"\u001b[39m\u001b[38;5;124mInterpolating target variable \u001b[39m\u001b[38;5;132;01m{\u001b[39;00mtarget_var\u001b[38;5;132;01m}\u001b[39;00m\u001b[38;5;124m\"\u001b[39m)\n\u001b[0;32m--> 822\u001b[0m         interpolated_var \u001b[38;5;241m=\u001b[39m \u001b[38;5;28;43mself\u001b[39;49m\u001b[38;5;241;43m.\u001b[39;49m\u001b[43m_rbf_variable_interpolation\u001b[49m\u001b[43m(\u001b[49m\n\u001b[1;32m    823\u001b[0m \u001b[43m            \u001b[49m\u001b[43mnormalized_dataset\u001b[49m\u001b[38;5;241;43m=\u001b[39;49m\u001b[43mnormalized_dataset\u001b[49m\u001b[43m,\u001b[49m\n\u001b[1;32m    824\u001b[0m \u001b[43m            \u001b[49m\u001b[43mopt_sigma\u001b[49m\u001b[38;5;241;43m=\u001b[39;49m\u001b[38;5;28;43mself\u001b[39;49m\u001b[38;5;241;43m.\u001b[39;49m\u001b[43m_opt_sigmas\u001b[49m\u001b[43m[\u001b[49m\u001b[43mtarget_var\u001b[49m\u001b[43m]\u001b[49m\u001b[43m,\u001b[49m\n\u001b[1;32m    825\u001b[0m \u001b[43m            \u001b[49m\u001b[43mrbf_coeff\u001b[49m\u001b[38;5;241;43m=\u001b[39;49m\u001b[38;5;28;43mself\u001b[39;49m\u001b[38;5;241;43m.\u001b[39;49m\u001b[43m_rbf_coeffs\u001b[49m\u001b[43m[\u001b[49m\u001b[43mtarget_var\u001b[49m\u001b[43m]\u001b[49m\u001b[38;5;241;43m.\u001b[39;49m\u001b[43mvalues\u001b[49m\u001b[43m,\u001b[49m\n\u001b[1;32m    826\u001b[0m \u001b[43m            \u001b[49m\u001b[43mnum_points_subset\u001b[49m\u001b[38;5;241;43m=\u001b[39;49m\u001b[43mnum_points_subset\u001b[49m\u001b[43m,\u001b[49m\n\u001b[1;32m    827\u001b[0m \u001b[43m            \u001b[49m\u001b[43mnum_vars_subset\u001b[49m\u001b[38;5;241;43m=\u001b[39;49m\u001b[43mnum_vars_subset\u001b[49m\u001b[43m,\u001b[49m\n\u001b[1;32m    828\u001b[0m \u001b[43m        \u001b[49m\u001b[43m)\u001b[49m\n\u001b[1;32m    829\u001b[0m         interpolated_array[:, i_var] \u001b[38;5;241m=\u001b[39m interpolated_var\n\u001b[1;32m    831\u001b[0m \u001b[38;5;28;01mreturn\u001b[39;00m pd\u001b[38;5;241m.\u001b[39mDataFrame(interpolated_array, columns\u001b[38;5;241m=\u001b[39m\u001b[38;5;28mself\u001b[39m\u001b[38;5;241m.\u001b[39mtarget_processed_variables)\n",
      "File \u001b[0;32m/vols/abedul/home/grupos/valvanuz/HySwash/BlueMath_tk/bluemath_tk/interpolation/rbf.py:740\u001b[0m, in \u001b[0;36mRBF._rbf_variable_interpolation\u001b[0;34m(self, opt_sigma, rbf_coeff, normalized_dataset, num_points_subset, num_vars_subset)\u001b[0m\n\u001b[1;32m    737\u001b[0m chunk \u001b[38;5;241m=\u001b[39m d_dataset[i : i \u001b[38;5;241m+\u001b[39m chunks[\u001b[38;5;241m0\u001b[39m]]\n\u001b[1;32m    739\u001b[0m \u001b[38;5;66;03m# Calculate r for this chunk\u001b[39;00m\n\u001b[0;32m--> 740\u001b[0m r_chunk \u001b[38;5;241m=\u001b[39m da\u001b[38;5;241m.\u001b[39mlinalg\u001b[38;5;241m.\u001b[39mnorm(\u001b[43mchunk\u001b[49m\u001b[43m[\u001b[49m\u001b[43m:\u001b[49m\u001b[43m,\u001b[49m\u001b[43m \u001b[49m\u001b[38;5;28;43;01mNone\u001b[39;49;00m\u001b[43m,\u001b[49m\u001b[43m \u001b[49m\u001b[43m:\u001b[49m\u001b[43m]\u001b[49m\u001b[43m \u001b[49m\u001b[38;5;241;43m-\u001b[39;49m\u001b[43m \u001b[49m\u001b[43md_subset\u001b[49m\u001b[43m[\u001b[49m\u001b[38;5;28;43;01mNone\u001b[39;49;00m\u001b[43m,\u001b[49m\u001b[43m \u001b[49m\u001b[43m:\u001b[49m\u001b[43m,\u001b[49m\u001b[43m \u001b[49m\u001b[43m:\u001b[49m\u001b[43m]\u001b[49m, axis\u001b[38;5;241m=\u001b[39m\u001b[38;5;241m2\u001b[39m)\n\u001b[1;32m    742\u001b[0m \u001b[38;5;66;03m# Apply kernel and dot product\u001b[39;00m\n\u001b[1;32m    743\u001b[0m kernel_values \u001b[38;5;241m=\u001b[39m \u001b[38;5;28mself\u001b[39m\u001b[38;5;241m.\u001b[39mkernel_func(r_chunk, opt_sigma)\n",
      "File \u001b[0;32m/software/geocean/conda/envs/bluemath_dev/lib/python3.13/site-packages/dask/array/core.py:236\u001b[0m, in \u001b[0;36mcheck_if_handled_given_other.<locals>.wrapper\u001b[0;34m(self, other)\u001b[0m\n\u001b[1;32m    234\u001b[0m     \u001b[38;5;28;01mreturn\u001b[39;00m \u001b[38;5;28mNotImplemented\u001b[39m\n\u001b[1;32m    235\u001b[0m \u001b[38;5;28;01melse\u001b[39;00m:\n\u001b[0;32m--> 236\u001b[0m     \u001b[38;5;28;01mreturn\u001b[39;00m \u001b[43mf\u001b[49m\u001b[43m(\u001b[49m\u001b[38;5;28;43mself\u001b[39;49m\u001b[43m,\u001b[49m\u001b[43m \u001b[49m\u001b[43mother\u001b[49m\u001b[43m)\u001b[49m\n",
      "File \u001b[0;32m/software/geocean/conda/envs/bluemath_dev/lib/python3.13/site-packages/dask/array/core.py:2474\u001b[0m, in \u001b[0;36mArray.__sub__\u001b[0;34m(self, other)\u001b[0m\n\u001b[1;32m   2472\u001b[0m \u001b[38;5;129m@check_if_handled_given_other\u001b[39m\n\u001b[1;32m   2473\u001b[0m \u001b[38;5;28;01mdef\u001b[39;00m\u001b[38;5;250m \u001b[39m\u001b[38;5;21m__sub__\u001b[39m(\u001b[38;5;28mself\u001b[39m, other):\n\u001b[0;32m-> 2474\u001b[0m     \u001b[38;5;28;01mreturn\u001b[39;00m \u001b[43melemwise\u001b[49m\u001b[43m(\u001b[49m\u001b[43moperator\u001b[49m\u001b[38;5;241;43m.\u001b[39;49m\u001b[43msub\u001b[49m\u001b[43m,\u001b[49m\u001b[43m \u001b[49m\u001b[38;5;28;43mself\u001b[39;49m\u001b[43m,\u001b[49m\u001b[43m \u001b[49m\u001b[43mother\u001b[49m\u001b[43m)\u001b[49m\n",
      "File \u001b[0;32m/software/geocean/conda/envs/bluemath_dev/lib/python3.13/site-packages/dask/array/core.py:5046\u001b[0m, in \u001b[0;36melemwise\u001b[0;34m(op, out, where, dtype, name, *args, **kwargs)\u001b[0m\n\u001b[1;32m   5042\u001b[0m     shapes\u001b[38;5;241m.\u001b[39mappend(out\u001b[38;5;241m.\u001b[39mshape)\n\u001b[1;32m   5044\u001b[0m shapes \u001b[38;5;241m=\u001b[39m [s \u001b[38;5;28;01mif\u001b[39;00m \u001b[38;5;28misinstance\u001b[39m(s, Iterable) \u001b[38;5;28;01melse\u001b[39;00m () \u001b[38;5;28;01mfor\u001b[39;00m s \u001b[38;5;129;01min\u001b[39;00m shapes]\n\u001b[1;32m   5045\u001b[0m out_ndim \u001b[38;5;241m=\u001b[39m \u001b[38;5;28mlen\u001b[39m(\n\u001b[0;32m-> 5046\u001b[0m     \u001b[43mbroadcast_shapes\u001b[49m\u001b[43m(\u001b[49m\u001b[38;5;241;43m*\u001b[39;49m\u001b[43mshapes\u001b[49m\u001b[43m)\u001b[49m\n\u001b[1;32m   5047\u001b[0m )  \u001b[38;5;66;03m# Raises ValueError if dimensions mismatch\u001b[39;00m\n\u001b[1;32m   5048\u001b[0m expr_inds \u001b[38;5;241m=\u001b[39m \u001b[38;5;28mtuple\u001b[39m(\u001b[38;5;28mrange\u001b[39m(out_ndim))[::\u001b[38;5;241m-\u001b[39m\u001b[38;5;241m1\u001b[39m]\n\u001b[1;32m   5050\u001b[0m \u001b[38;5;28;01mif\u001b[39;00m dtype \u001b[38;5;129;01mis\u001b[39;00m \u001b[38;5;129;01mnot\u001b[39;00m \u001b[38;5;28;01mNone\u001b[39;00m:\n",
      "File \u001b[0;32m/software/geocean/conda/envs/bluemath_dev/lib/python3.13/site-packages/dask/array/core.py:4974\u001b[0m, in \u001b[0;36mbroadcast_shapes\u001b[0;34m(*shapes)\u001b[0m\n\u001b[1;32m   4972\u001b[0m         dim \u001b[38;5;241m=\u001b[39m \u001b[38;5;241m0\u001b[39m \u001b[38;5;28;01mif\u001b[39;00m \u001b[38;5;241m0\u001b[39m \u001b[38;5;129;01min\u001b[39;00m sizes \u001b[38;5;28;01melse\u001b[39;00m np\u001b[38;5;241m.\u001b[39mmax(sizes)\u001b[38;5;241m.\u001b[39mitem()\n\u001b[1;32m   4973\u001b[0m     \u001b[38;5;28;01mif\u001b[39;00m \u001b[38;5;28many\u001b[39m(i \u001b[38;5;129;01mnot\u001b[39;00m \u001b[38;5;129;01min\u001b[39;00m [\u001b[38;5;241m-\u001b[39m\u001b[38;5;241m1\u001b[39m, \u001b[38;5;241m0\u001b[39m, \u001b[38;5;241m1\u001b[39m, dim] \u001b[38;5;129;01mand\u001b[39;00m \u001b[38;5;129;01mnot\u001b[39;00m np\u001b[38;5;241m.\u001b[39misnan(i) \u001b[38;5;28;01mfor\u001b[39;00m i \u001b[38;5;129;01min\u001b[39;00m sizes):\n\u001b[0;32m-> 4974\u001b[0m         \u001b[38;5;28;01mraise\u001b[39;00m \u001b[38;5;167;01mValueError\u001b[39;00m(\n\u001b[1;32m   4975\u001b[0m             \u001b[38;5;124m\"\u001b[39m\u001b[38;5;124moperands could not be broadcast together with \u001b[39m\u001b[38;5;124m\"\u001b[39m\n\u001b[1;32m   4976\u001b[0m             \u001b[38;5;124m\"\u001b[39m\u001b[38;5;124mshapes \u001b[39m\u001b[38;5;132;01m{}\u001b[39;00m\u001b[38;5;124m\"\u001b[39m\u001b[38;5;241m.\u001b[39mformat(\u001b[38;5;124m\"\u001b[39m\u001b[38;5;124m \u001b[39m\u001b[38;5;124m\"\u001b[39m\u001b[38;5;241m.\u001b[39mjoin(\u001b[38;5;28mmap\u001b[39m(\u001b[38;5;28mstr\u001b[39m, shapes)))\n\u001b[1;32m   4977\u001b[0m         )\n\u001b[1;32m   4978\u001b[0m     out\u001b[38;5;241m.\u001b[39mappend(dim)\n\u001b[1;32m   4979\u001b[0m \u001b[38;5;28;01mreturn\u001b[39;00m \u001b[38;5;28mtuple\u001b[39m(\u001b[38;5;28mreversed\u001b[39m(out))\n",
      "\u001b[0;31mValueError\u001b[0m: operands could not be broadcast together with shapes (100, 1, 3) (1, 819, 5)"
     ]
    }
   ],
   "source": [
    "from utils.plotting import show_graph_for_all_vegetations\n",
    "\n",
    "show_graph_for_all_vegetations(pca=pca, rbf=rbf, depth=depth, hs=2.0, hs_l0=0.02)"
   ]
  }
 ],
 "metadata": {
  "kernelspec": {
   "display_name": "bluemath_dev",
   "language": "python",
   "name": "python3"
  },
  "language_info": {
   "codemirror_mode": {
    "name": "ipython",
    "version": 3
   },
   "file_extension": ".py",
   "mimetype": "text/x-python",
   "name": "python",
   "nbconvert_exporter": "python",
   "pygments_lexer": "ipython3",
   "version": "3.13.2"
  }
 },
 "nbformat": 4,
 "nbformat_minor": 2
}
