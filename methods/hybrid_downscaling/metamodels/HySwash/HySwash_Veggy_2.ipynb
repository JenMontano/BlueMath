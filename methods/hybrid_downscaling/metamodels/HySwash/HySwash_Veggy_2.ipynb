{
 "cells": [
  {
   "cell_type": "markdown",
   "metadata": {},
   "source": [
    "# HySwash: A hybrid method for nearshore wave processes\n",
    "\n",
    "![sketch](./assets/hyswash-sketch.png)"
   ]
  },
  {
   "cell_type": "markdown",
   "metadata": {},
   "source": [
    "If you want to run this notebook using the pickle files exported in Part 1, execute the code below. Otherwise, you can skip it."
   ]
  },
  {
   "cell_type": "code",
   "execution_count": null,
   "metadata": {},
   "outputs": [],
   "source": [
    "import requests\n",
    "import tarfile\n",
    "import os\n",
    "\n",
    "url = \"https://geoocean.sci.unican.es/data/HyVeggy_exported.tar.gz.tar.gz\"\n",
    "response = requests.get(url, stream=True)\n",
    "file = tarfile.open(fileobj=response.raw, mode=\"r|gz\")\n",
    "file.extractall(path=os.getcwd())"
   ]
  },
  {
   "cell_type": "code",
   "execution_count": 17,
   "metadata": {},
   "outputs": [],
   "source": [
    "import os\n",
    "import os.path as op\n",
    "import numpy as np\n",
    "import utils.plotting\n",
    "import bluemath_tk.topo_bathy.profiles\n",
    "from bluemath_tk.datamining.lhs import LHS\n",
    "from bluemath_tk.datamining.mda import MDA\n",
    "from bluemath_tk.waves.series import waves_dispersion \n",
    "from bluemath_tk.wrappers.swash.swash_wrapper import HySwashVeggyModelWrapper\n",
    "from bluemath_tk.core.io import load_model\n",
    "from bluemath_tk.core.plotting.scatter import plot_scatters_in_triangle\n",
    "import xarray as xr\n",
    "import matplotlib.pyplot as plt\n",
    "from utils.plotting import animate_case_propagation\n",
    "from IPython.display import HTML\n",
    "import utils.ChySwash\n",
    "\n",
    "root_dir = os.getcwd()\n",
    "#output_dir = \"/lustre/geocean/DATA/hidronas1/valva/Veggy\"\n",
    "output_dir = os.path.join(root_dir, \"output\")\n",
    "templates_dir = os.path.join(root_dir, \"templates\", \"HyVeggy\")\n",
    "export_dir = op.join(root_dir, \"HyVeggy_exported\")"
   ]
  },
  {
   "cell_type": "markdown",
   "metadata": {},
   "source": [
    "Load swash_model and mda from a pickle file and postprocessed_output NetCDF file"
   ]
  },
  {
   "cell_type": "code",
   "execution_count": 9,
   "metadata": {},
   "outputs": [],
   "source": [
    "mda=load_model(op.join(export_dir, \"mda_model.pkl\"))\n",
    "swash_model=load_model(op.join(export_dir, \"swash_model.pkl\"))\n",
    "depth_file=op.join(templates_dir,\"depth.bot\")\n",
    "depth_array = np.loadtxt(depth_file)\n",
    "postprocessed_output = xr.open_dataset(op.join(export_dir, \"output_postprocessed_clean.nc\"))"
   ]
  },
  {
   "cell_type": "markdown",
   "metadata": {},
   "source": [
    "## 5. Reconstruction: Principal Component Analysis (PCA) & Radial Basis Fucntions (RBF)\n",
    "\n",
    "The reconstruction of the time series of wave parameters in the position of the buoy is carried out by an interpolation technique based on radial basis functions (RBF), a scheme wich is very convenient for scatter and multivariate data. The RBF approximation has been applied successfully in many fields, usually with better results than other interpolation methods (Hardy, 1990).\n",
    "    \n",
    "Suppose that $f=f(x)$ is the real-valued function that we want to approximate. We are given M scattered data points $\\{x_1,..., x_M\\}$ of dimension $\\textit{n}$ and the associated real function values $\\{f_1, ..., f_M\\}$, being $f_i = f(x_j), j = 1,...,M$. The RBF interpolation method consists of a weighted sum of radially symmetric basic functions located at the data points. The approximation function is assumed to be of the form:\n",
    "$$RBF(x) = p(x) + \\sum\\limits_{j=1}^M a_j\\Phi{\\large (}{\\large \\parallel}{x - x_j}{\\large \\parallel}{\\large )}$$\n",
    "\n",
    "### Hs reconstruction"
   ]
  },
  {
   "cell_type": "code",
   "execution_count": null,
   "metadata": {},
   "outputs": [
    {
     "name": "stdout",
     "output_type": "stream",
     "text": [
      "\n",
      "        -------------------------------------------------------------------\n",
      "        | Initializing PCA reduction model with the following parameters:\n",
      "        |    - n_components: 0.98\n",
      "        |    - is_incremental: False\n",
      "        | For more information, please refer to the documentation.\n",
      "        -------------------------------------------------------------------\n",
      "        \n",
      "\n",
      "        ---------------------------------------------------------------------------------\n",
      "        | Initializing RBF interpolation model with the following parameters:\n",
      "        |    - sigma_min: 0.001\n",
      "        |    - sigma_max: 0.1\n",
      "        |    - sigma_diff: 0.0001\n",
      "        |    - sigma_opt: None\n",
      "        |    - kernel: gaussian\n",
      "        |    - smooth: 1e-05\n",
      "        | For more information, please refer to the documentation.\n",
      "        | Recommended lecture: https://link.springer.com/article/10.1023/A:1018975909870\n",
      "        ---------------------------------------------------------------------------------\n",
      "        \n"
     ]
    },
    {
     "name": "stderr",
     "output_type": "stream",
     "text": [
      "2025-05-28 18:22:25,905 - PCA - WARNING - Attribute pcs is an xarray Dataset / Dataarray and will be pickled!\n"
     ]
    }
   ],
   "source": [
    "from bluemath_tk.datamining.pca import PCA\n",
    "from bluemath_tk.interpolation.rbf import RBF\n",
    "\n",
    "postprocessed_output=postprocessed_output.copy(deep=True)\n",
    "\n",
    "# Apply PCA to the postprocessed output\n",
    "pca = PCA()\n",
    "_pcs_ds = pca.fit_transform(\n",
    "    data=postprocessed_output,\n",
    "    vars_to_stack=[\"Hs\"],\n",
    "    coords_to_stack=[\"Xp\"],\n",
    "    pca_dim_for_rows=\"case_num\",\n",
    "    value_to_replace_nans={\"Hs\": 0.0},\n",
    ")\n",
    "\n",
    "# Apply RBF reconstruction\n",
    "rbf = RBF()\n",
    "rbf.fit(\n",
    "    subset_data=mda.centroids.iloc[postprocessed_output[\"case_num\"].values, :],\n",
    "    target_data=pca.pcs_df,\n",
    ")\n",
    "\n",
    "pca.save_model(\n",
    "    model_path=op.join(export_dir, \"pca_model.pkl\"),\n",
    ")\n",
    "rbf.save_model(\n",
    "    model_path=op.join(export_dir, \"rbf_model.pkl\"),\n",
    ")"
   ]
  },
  {
   "cell_type": "code",
   "execution_count": 71,
   "metadata": {},
   "outputs": [],
   "source": [
    "pca=load_model(op.join(export_dir, \"pca_model.pkl\"))\n",
    "rbf=load_model(op.join(export_dir, \"rbf_model.pkl\"))"
   ]
  },
  {
   "cell_type": "markdown",
   "metadata": {},
   "source": [
    "Visualize the effect of the plants on Hs"
   ]
  },
  {
   "cell_type": "code",
   "execution_count": null,
   "metadata": {},
   "outputs": [
    {
     "data": {
      "application/vnd.jupyter.widget-view+json": {
       "model_id": "ce3d8ac6a0a7489caba7926c734885a1",
       "version_major": 2,
       "version_minor": 0
      },
      "text/plain": [
       "interactive(children=(FloatSlider(value=2.462939903482534, description='Hs', max=3.0, min=0.5, step=0.25), Flo…"
      ]
     },
     "metadata": {},
     "output_type": "display_data"
    },
    {
     "data": {
      "text/plain": [
       "<function utils.plotting.show_graph_for_different_parameters.<locals>.update_plot(Hs, Hs_L0, Wv, hv, Nv)>"
      ]
     },
     "execution_count": 72,
     "metadata": {},
     "output_type": "execute_result"
    }
   ],
   "source": [
    "import importlib\n",
    "import utils.plotting\n",
    "importlib.reload(utils.plotting)\n",
    "from utils.plotting import show_graph_for_different_parameters\n",
    "variables_to_analyse_in_metamodel = [\"Hs\", \"Hs_L0\", \"Wv\",\"hv\",\"Nv\"]\n",
    "lhs_parameters = {\n",
    "    \"num_dimensions\": 5,\n",
    "    \"num_samples\": 11000,\n",
    "    \"dimensions_names\": variables_to_analyse_in_metamodel,\n",
    "    \"lower_bounds\": [0.5, 0.003, 0, 0, 0],\n",
    "    \"upper_bounds\": [3, 0.01, 200, 1.5, 1000],\n",
    "}\n",
    "utils.plotting.show_graph_for_different_parameters(pca=pca, rbf=rbf,lhs_parameters=lhs_parameters,depthfile=depth_file)"
   ]
  },
  {
   "cell_type": "code",
   "execution_count": 80,
   "metadata": {},
   "outputs": [
    {
     "data": {
      "text/plain": [
       "<matplotlib.collections.PathCollection at 0x7fdfde593610>"
      ]
     },
     "execution_count": 80,
     "metadata": {},
     "output_type": "execute_result"
    },
    {
     "data": {
      "image/png": "[encoded data removed]",
      "text/plain": [
       "<Figure size 640x480 with 1 Axes>"
      ]
     },
     "metadata": {},
     "output_type": "display_data"
    }
   ],
   "source": [
    "plt.scatter(mda.centroids.loc[postprocessed_output[\"case_num\"].values, :][\"Wv\"],postprocessed_output[\"Ru2\"].values)"
   ]
  },
  {
   "cell_type": "markdown",
   "metadata": {},
   "source": [
    "### Ru2 reconstruction"
   ]
  },
  {
   "cell_type": "code",
   "execution_count": null,
   "metadata": {},
   "outputs": [
    {
     "name": "stderr",
     "output_type": "stream",
     "text": [
      "INFO:RBF:Setting self.num_workers to 1. Change it using self.set_num_processors_to_use method.\n",
      "INFO:RBF:Checking for NaNs in subset data\n",
      "INFO:RBF:Preprocessing subset data\n",
      "INFO:RBF:Normalizing subset data\n",
      "INFO:RBF:Subset data preprocessed successfully\n",
      "INFO:RBF:Checking for NaNs in target data\n",
      "INFO:RBF:Preprocessing target data\n",
      "INFO:RBF:Normalizing target data\n",
      "INFO:RBF:Target data preprocessed successfully\n",
      "INFO:RBF:Fitting RBF model to the data\n",
      "INFO:RBF:Fitting RBF for variable Ru2\n"
     ]
    },
    {
     "name": "stdout",
     "output_type": "stream",
     "text": [
      "\n",
      "        ---------------------------------------------------------------------------------\n",
      "        | Initializing RBF interpolation model with the following parameters:\n",
      "        |    - sigma_min: 0.001\n",
      "        |    - sigma_max: 0.1\n",
      "        |    - sigma_diff: 0.0001\n",
      "        |    - sigma_opt: None\n",
      "        |    - kernel: gaussian\n",
      "        |    - smooth: 1e-05\n",
      "        | For more information, please refer to the documentation.\n",
      "        | Recommended lecture: https://link.springer.com/article/10.1023/A:1018975909870\n",
      "        ---------------------------------------------------------------------------------\n",
      "        \n"
     ]
    },
    {
     "name": "stderr",
     "output_type": "stream",
     "text": [
      "INFO:RBF:Optimal sigma: 0.1773331430409503 - Time: 219.75 seconds\n"
     ]
    }
   ],
   "source": [
    "# Fit the RBF model to the postprocessed output\n",
    "from bluemath_tk.interpolation.rbf import RBF\n",
    "rbf_Ru = RBF()\n",
    "rbf_Ru.fit(\n",
    "    subset_data=mda.centroids.iloc[postprocessed_output[\"case_num\"].values, :],\n",
    "    target_data=pd.DataFrame(postprocessed_output[\"Ru2\"].values, columns=[\"Ru2\"])\n",
    ")\n",
    "rbf_Ru.save_model(\n",
    "    model_path=op.join(export_dir, \"rbf_Ru_model.pkl\"),\n",
    ")"
   ]
  },
  {
   "cell_type": "code",
   "execution_count": 63,
   "metadata": {},
   "outputs": [
    {
     "data": {
      "application/vnd.microsoft.datawrangler.viewer.v0+json": {
       "columns": [
        {
         "name": "index",
         "rawType": "int64",
         "type": "integer"
        },
        {
         "name": "Wv",
         "rawType": "float64",
         "type": "float"
        },
        {
         "name": "hv",
         "rawType": "float64",
         "type": "float"
        },
        {
         "name": "Nv",
         "rawType": "float64",
         "type": "float"
        },
        {
         "name": "Hs",
         "rawType": "float64",
         "type": "float"
        },
        {
         "name": "Hs_L0",
         "rawType": "float64",
         "type": "float"
        }
       ],
       "ref": "a088676a-da46-4075-b746-a825352abbd3",
       "rows": [
        [
         "0",
         "147.7952713501199",
         "0.6001486089110223",
         "711.7116807745607",
         "2.5",
         "0.005"
        ],
        [
         "1",
         "171.6205402211451",
         "0.6170645056439685",
         "39.15334710205485",
         "2.5",
         "0.005"
        ],
        [
         "2",
         "86.06891896247181",
         "0.24777240259089248",
         "456.9008126246539",
         "2.5",
         "0.005"
        ],
        [
         "3",
         "179.58897635470277",
         "0.9847394606739757",
         "918.9237133735614",
         "2.5",
         "0.005"
        ],
        [
         "4",
         "91.06810731340038",
         "0.2766347138897148",
         "75.3936103414167",
         "2.5",
         "0.005"
        ],
        [
         "5",
         "74.21860084420774",
         "0.6355978749082585",
         "563.1937740271057",
         "2.5",
         "0.005"
        ],
        [
         "6",
         "119.11861790372956",
         "0.13421305997867444",
         "8.499270654739895",
         "2.5",
         "0.005"
        ],
        [
         "7",
         "148.6878364968056",
         "0.778544427076705",
         "224.03852560039752",
         "2.5",
         "0.005"
        ],
        [
         "8",
         "132.41533712253448",
         "1.0028256301776795",
         "998.9175462889051",
         "2.5",
         "0.005"
        ],
        [
         "9",
         "59.08924351838185",
         "1.2085180439736747",
         "910.0601491735678",
         "2.5",
         "0.005"
        ],
        [
         "10",
         "184.59357256578085",
         "1.2146524031625878",
         "216.753020488925",
         "2.5",
         "0.005"
        ],
        [
         "11",
         "172.08932675426308",
         "1.0931609900968409",
         "402.1654045904182",
         "2.5",
         "0.005"
        ],
        [
         "12",
         "112.78416284933432",
         "1.13841423221022",
         "525.0813282342292",
         "2.5",
         "0.005"
        ],
        [
         "13",
         "12.77506016834005",
         "0.3640760154925819",
         "730.2947343230387",
         "2.5",
         "0.005"
        ],
        [
         "14",
         "101.36282359275828",
         "1.3132197076567882",
         "68.32023695793718",
         "2.5",
         "0.005"
        ],
        [
         "15",
         "68.19620164739139",
         "0.7094673333466004",
         "264.49393958459564",
         "2.5",
         "0.005"
        ],
        [
         "16",
         "26.340831185686014",
         "0.1595411198426422",
         "582.6334261879935",
         "2.5",
         "0.005"
        ],
        [
         "17",
         "88.48516122337807",
         "1.4754251512229397",
         "994.395271677731",
         "2.5",
         "0.005"
        ],
        [
         "18",
         "164.72347042957713",
         "0.3627553421479095",
         "400.2895460514259",
         "2.5",
         "0.005"
        ],
        [
         "19",
         "32.85548660152893",
         "1.0113703887107501",
         "109.05618056128242",
         "2.5",
         "0.005"
        ],
        [
         "20",
         "40.29038064455451",
         "1.1189787245141907",
         "222.7085582088501",
         "2.5",
         "0.005"
        ],
        [
         "21",
         "180.5120362465965",
         "0.09649329235049917",
         "749.4362443452709",
         "2.5",
         "0.005"
        ],
        [
         "22",
         "4.71391273313481",
         "0.42408200585980027",
         "492.38989033370996",
         "2.5",
         "0.005"
        ],
        [
         "23",
         "138.81453165086202",
         "1.1515484255087363",
         "277.0355752236013",
         "2.5",
         "0.005"
        ],
        [
         "24",
         "75.64211365512153",
         "0.7397318492791637",
         "254.8209958758319",
         "2.5",
         "0.005"
        ],
        [
         "25",
         "137.59020372900267",
         "0.48697962033854114",
         "472.1618227607324",
         "2.5",
         "0.005"
        ],
        [
         "26",
         "39.26926986817731",
         "0.5643434391998701",
         "40.67928923895895",
         "2.5",
         "0.005"
        ],
        [
         "27",
         "23.101779093102728",
         "0.3846944490033113",
         "735.576650514785",
         "2.5",
         "0.005"
        ],
        [
         "28",
         "61.267490066134215",
         "0.3058118462322877",
         "226.3490243732129",
         "2.5",
         "0.005"
        ],
        [
         "29",
         "83.93419709341036",
         "0.8058745590105101",
         "849.3665236668861",
         "2.5",
         "0.005"
        ],
        [
         "30",
         "19.323465185888907",
         "1.4004642843654769",
         "437.20748767556603",
         "2.5",
         "0.005"
        ],
        [
         "31",
         "139.5976701619568",
         "1.2322125158617496",
         "365.15762237154206",
         "2.5",
         "0.005"
        ],
        [
         "32",
         "97.15763150531707",
         "1.4501005201618902",
         "71.23915146022694",
         "2.5",
         "0.005"
        ],
        [
         "33",
         "47.309882424769505",
         "1.0270384019667949",
         "369.13754650244516",
         "2.5",
         "0.005"
        ],
        [
         "34",
         "156.4530717977431",
         "0.4691035946474995",
         "992.3794512957874",
         "2.5",
         "0.005"
        ],
        [
         "35",
         "40.66328211042396",
         "0.3433689921309946",
         "985.6074062297705",
         "2.5",
         "0.005"
        ],
        [
         "36",
         "0.40154352395254883",
         "1.460270353607081",
         "777.4862650655458",
         "2.5",
         "0.005"
        ],
        [
         "37",
         "196.77072397104362",
         "1.0642265906430097",
         "878.4737429349119",
         "2.5",
         "0.005"
        ],
        [
         "38",
         "113.72084257172676",
         "0.4136139803630485",
         "585.2475229971438",
         "2.5",
         "0.005"
        ],
        [
         "39",
         "183.43163144215302",
         "0.44500504726091406",
         "727.0881420739125",
         "2.5",
         "0.005"
        ],
        [
         "40",
         "150.1653926692698",
         "1.0534809461891732",
         "380.54705277937524",
         "2.5",
         "0.005"
        ],
        [
         "41",
         "45.053997094596575",
         "0.10365481107196656",
         "785.26460086062",
         "2.5",
         "0.005"
        ],
        [
         "42",
         "137.15610613439733",
         "1.1483902753677377",
         "21.432387022111737",
         "2.5",
         "0.005"
        ],
        [
         "43",
         "103.87434644175909",
         "1.2920608564235403",
         "48.84660056749409",
         "2.5",
         "0.005"
        ],
        [
         "44",
         "91.6113240097521",
         "0.8256760075952287",
         "164.4177321036544",
         "2.5",
         "0.005"
        ],
        [
         "45",
         "28.49629259978417",
         "0.22020903680842874",
         "50.164615485658175",
         "2.5",
         "0.005"
        ],
        [
         "46",
         "107.32414793782117",
         "0.9764989307077894",
         "761.8458323829989",
         "2.5",
         "0.005"
        ],
        [
         "47",
         "94.2046203091658",
         "0.31436150701397897",
         "891.7346074049065",
         "2.5",
         "0.005"
        ],
        [
         "48",
         "32.597574030988255",
         "0.732644744122209",
         "809.409987114389",
         "2.5",
         "0.005"
        ],
        [
         "49",
         "138.09249129603634",
         "0.4604231114305132",
         "901.7019039532586",
         "2.5",
         "0.005"
        ]
       ],
       "shape": {
        "columns": 5,
        "rows": 500
       }
      },
      "text/html": [
       "<div>\n",
       "<style scoped>\n",
       "    .dataframe tbody tr th:only-of-type {\n",
       "        vertical-align: middle;\n",
       "    }\n",
       "\n",
       "    .dataframe tbody tr th {\n",
       "        vertical-align: top;\n",
       "    }\n",
       "\n",
       "    .dataframe thead th {\n",
       "        text-align: right;\n",
       "    }\n",
       "</style>\n",
       "<table border=\"1\" class=\"dataframe\">\n",
       "  <thead>\n",
       "    <tr style=\"text-align: right;\">\n",
       "      <th></th>\n",
       "      <th>Wv</th>\n",
       "      <th>hv</th>\n",
       "      <th>Nv</th>\n",
       "      <th>Hs</th>\n",
       "      <th>Hs_L0</th>\n",
       "    </tr>\n",
       "  </thead>\n",
       "  <tbody>\n",
       "    <tr>\n",
       "      <th>0</th>\n",
       "      <td>147.795271</td>\n",
       "      <td>0.600149</td>\n",
       "      <td>711.711681</td>\n",
       "      <td>2.5</td>\n",
       "      <td>0.005</td>\n",
       "    </tr>\n",
       "    <tr>\n",
       "      <th>1</th>\n",
       "      <td>171.620540</td>\n",
       "      <td>0.617065</td>\n",
       "      <td>39.153347</td>\n",
       "      <td>2.5</td>\n",
       "      <td>0.005</td>\n",
       "    </tr>\n",
       "    <tr>\n",
       "      <th>2</th>\n",
       "      <td>86.068919</td>\n",
       "      <td>0.247772</td>\n",
       "      <td>456.900813</td>\n",
       "      <td>2.5</td>\n",
       "      <td>0.005</td>\n",
       "    </tr>\n",
       "    <tr>\n",
       "      <th>3</th>\n",
       "      <td>179.588976</td>\n",
       "      <td>0.984739</td>\n",
       "      <td>918.923713</td>\n",
       "      <td>2.5</td>\n",
       "      <td>0.005</td>\n",
       "    </tr>\n",
       "    <tr>\n",
       "      <th>4</th>\n",
       "      <td>91.068107</td>\n",
       "      <td>0.276635</td>\n",
       "      <td>75.393610</td>\n",
       "      <td>2.5</td>\n",
       "      <td>0.005</td>\n",
       "    </tr>\n",
       "    <tr>\n",
       "      <th>...</th>\n",
       "      <td>...</td>\n",
       "      <td>...</td>\n",
       "      <td>...</td>\n",
       "      <td>...</td>\n",
       "      <td>...</td>\n",
       "    </tr>\n",
       "    <tr>\n",
       "      <th>495</th>\n",
       "      <td>35.214145</td>\n",
       "      <td>0.431263</td>\n",
       "      <td>631.727669</td>\n",
       "      <td>2.5</td>\n",
       "      <td>0.005</td>\n",
       "    </tr>\n",
       "    <tr>\n",
       "      <th>496</th>\n",
       "      <td>170.102108</td>\n",
       "      <td>0.993969</td>\n",
       "      <td>33.106959</td>\n",
       "      <td>2.5</td>\n",
       "      <td>0.005</td>\n",
       "    </tr>\n",
       "    <tr>\n",
       "      <th>497</th>\n",
       "      <td>34.940957</td>\n",
       "      <td>1.113168</td>\n",
       "      <td>502.316178</td>\n",
       "      <td>2.5</td>\n",
       "      <td>0.005</td>\n",
       "    </tr>\n",
       "    <tr>\n",
       "      <th>498</th>\n",
       "      <td>180.172712</td>\n",
       "      <td>0.435274</td>\n",
       "      <td>266.174177</td>\n",
       "      <td>2.5</td>\n",
       "      <td>0.005</td>\n",
       "    </tr>\n",
       "    <tr>\n",
       "      <th>499</th>\n",
       "      <td>20.091538</td>\n",
       "      <td>1.286644</td>\n",
       "      <td>804.876582</td>\n",
       "      <td>2.5</td>\n",
       "      <td>0.005</td>\n",
       "    </tr>\n",
       "  </tbody>\n",
       "</table>\n",
       "<p>500 rows × 5 columns</p>\n",
       "</div>"
      ],
      "text/plain": [
       "             Wv        hv          Nv   Hs  Hs_L0\n",
       "0    147.795271  0.600149  711.711681  2.5  0.005\n",
       "1    171.620540  0.617065   39.153347  2.5  0.005\n",
       "2     86.068919  0.247772  456.900813  2.5  0.005\n",
       "3    179.588976  0.984739  918.923713  2.5  0.005\n",
       "4     91.068107  0.276635   75.393610  2.5  0.005\n",
       "..          ...       ...         ...  ...    ...\n",
       "495   35.214145  0.431263  631.727669  2.5  0.005\n",
       "496  170.102108  0.993969   33.106959  2.5  0.005\n",
       "497   34.940957  1.113168  502.316178  2.5  0.005\n",
       "498  180.172712  0.435274  266.174177  2.5  0.005\n",
       "499   20.091538  1.286644  804.876582  2.5  0.005\n",
       "\n",
       "[500 rows x 5 columns]"
      ]
     },
     "execution_count": 63,
     "metadata": {},
     "output_type": "execute_result"
    }
   ],
   "source": [
    "lhs_dataset"
   ]
  },
  {
   "cell_type": "code",
   "execution_count": 83,
   "metadata": {},
   "outputs": [
    {
     "name": "stderr",
     "output_type": "stream",
     "text": [
      "INFO:RBF:Reconstructing data using fitted coefficients.\n",
      "INFO:RBF:Checking for NaNs in subset data\n",
      "INFO:RBF:Preprocessing subset data\n",
      "INFO:RBF:Normalizing subset data\n",
      "INFO:RBF:Subset data preprocessed successfully\n",
      "INFO:RBF:Interpolating target variable Ru2\n",
      "INFO:RBF:Denormalizing target data\n"
     ]
    }
   ],
   "source": [
    "Hs=2.5\n",
    "Hs_Lo=0.005\n",
    "\n",
    "\n",
    "rbf_Ru=load_model(op.join(export_dir, \"rbf_Ru_model.pkl\"))\n",
    "variables_to_analyse_in_metamodel = [\"Wv\",\"hv\",\"Nv\"]\n",
    "lhs_parameters = {\n",
    "    \"num_dimensions\": 3,\n",
    "    \"num_samples\": 500,\n",
    "    \"dimensions_names\": variables_to_analyse_in_metamodel,\n",
    "    \"lower_bounds\": [0, 0, 0],\n",
    "    \"upper_bounds\": [200, 1.5, 1000],\n",
    "}\n",
    "\n",
    "lhs = LHS(\n",
    "    num_dimensions=lhs_parameters.get(\"num_dimensions\"),\n",
    ")\n",
    "\n",
    "lhs_dataset = lhs.generate(\n",
    "    dimensions_names=lhs_parameters.get(\"dimensions_names\"),\n",
    "    lower_bounds=lhs_parameters.get(\"lower_bounds\"),\n",
    "    upper_bounds=lhs_parameters.get(\"upper_bounds\"),\n",
    "    num_samples=lhs_parameters.get(\"num_samples\"),\n",
    ")\n",
    "\n",
    "# Add Hs and Hs_Lo to the lhs dataset\n",
    "lhs_dataset[\"Hs\"] = Hs\n",
    "lhs_dataset[\"Hs_L0\"] = Hs_Lo\n",
    "# lhs_dataset[\"hv\"]=1\n",
    "# lhs_dataset[\"Nv\"]=1000\n",
    "# Predict the PCA components using the RBF model\n",
    "\n",
    "Ru_dataset=rbf_Ru.predict(lhs_dataset)\n",
    "\n",
    "#fig,axes=plot_scatters_in_triangle(dataframes=[df_lhs_data,df_centroids],s=1,data_colors=[\"blue\",\"red\"])"
   ]
  },
  {
   "cell_type": "code",
   "execution_count": 75,
   "metadata": {},
   "outputs": [
    {
     "data": {
      "application/vnd.microsoft.datawrangler.viewer.v0+json": {
       "columns": [
        {
         "name": "index",
         "rawType": "int64",
         "type": "integer"
        },
        {
         "name": "Wv",
         "rawType": "float64",
         "type": "float"
        },
        {
         "name": "hv",
         "rawType": "int64",
         "type": "integer"
        },
        {
         "name": "Nv",
         "rawType": "int64",
         "type": "integer"
        },
        {
         "name": "Hs",
         "rawType": "float64",
         "type": "float"
        },
        {
         "name": "Hs_L0",
         "rawType": "float64",
         "type": "float"
        }
       ],
       "ref": "ebc81036-83b1-4370-86ce-78a448038660",
       "rows": [
        [
         "0",
         "147.7952713501199",
         "1",
         "1000",
         "2.5",
         "0.005"
        ],
        [
         "1",
         "171.6205402211451",
         "1",
         "1000",
         "2.5",
         "0.005"
        ],
        [
         "2",
         "86.06891896247181",
         "1",
         "1000",
         "2.5",
         "0.005"
        ],
        [
         "3",
         "179.58897635470277",
         "1",
         "1000",
         "2.5",
         "0.005"
        ],
        [
         "4",
         "91.06810731340038",
         "1",
         "1000",
         "2.5",
         "0.005"
        ],
        [
         "5",
         "74.21860084420774",
         "1",
         "1000",
         "2.5",
         "0.005"
        ],
        [
         "6",
         "119.11861790372956",
         "1",
         "1000",
         "2.5",
         "0.005"
        ],
        [
         "7",
         "148.6878364968056",
         "1",
         "1000",
         "2.5",
         "0.005"
        ],
        [
         "8",
         "132.41533712253448",
         "1",
         "1000",
         "2.5",
         "0.005"
        ],
        [
         "9",
         "59.08924351838185",
         "1",
         "1000",
         "2.5",
         "0.005"
        ],
        [
         "10",
         "184.59357256578085",
         "1",
         "1000",
         "2.5",
         "0.005"
        ],
        [
         "11",
         "172.08932675426308",
         "1",
         "1000",
         "2.5",
         "0.005"
        ],
        [
         "12",
         "112.78416284933432",
         "1",
         "1000",
         "2.5",
         "0.005"
        ],
        [
         "13",
         "12.77506016834005",
         "1",
         "1000",
         "2.5",
         "0.005"
        ],
        [
         "14",
         "101.36282359275828",
         "1",
         "1000",
         "2.5",
         "0.005"
        ],
        [
         "15",
         "68.19620164739139",
         "1",
         "1000",
         "2.5",
         "0.005"
        ],
        [
         "16",
         "26.340831185686014",
         "1",
         "1000",
         "2.5",
         "0.005"
        ],
        [
         "17",
         "88.48516122337807",
         "1",
         "1000",
         "2.5",
         "0.005"
        ],
        [
         "18",
         "164.72347042957713",
         "1",
         "1000",
         "2.5",
         "0.005"
        ],
        [
         "19",
         "32.85548660152893",
         "1",
         "1000",
         "2.5",
         "0.005"
        ],
        [
         "20",
         "40.29038064455451",
         "1",
         "1000",
         "2.5",
         "0.005"
        ],
        [
         "21",
         "180.5120362465965",
         "1",
         "1000",
         "2.5",
         "0.005"
        ],
        [
         "22",
         "4.71391273313481",
         "1",
         "1000",
         "2.5",
         "0.005"
        ],
        [
         "23",
         "138.81453165086202",
         "1",
         "1000",
         "2.5",
         "0.005"
        ],
        [
         "24",
         "75.64211365512153",
         "1",
         "1000",
         "2.5",
         "0.005"
        ],
        [
         "25",
         "137.59020372900267",
         "1",
         "1000",
         "2.5",
         "0.005"
        ],
        [
         "26",
         "39.26926986817731",
         "1",
         "1000",
         "2.5",
         "0.005"
        ],
        [
         "27",
         "23.101779093102728",
         "1",
         "1000",
         "2.5",
         "0.005"
        ],
        [
         "28",
         "61.267490066134215",
         "1",
         "1000",
         "2.5",
         "0.005"
        ],
        [
         "29",
         "83.93419709341036",
         "1",
         "1000",
         "2.5",
         "0.005"
        ],
        [
         "30",
         "19.323465185888907",
         "1",
         "1000",
         "2.5",
         "0.005"
        ],
        [
         "31",
         "139.5976701619568",
         "1",
         "1000",
         "2.5",
         "0.005"
        ],
        [
         "32",
         "97.15763150531707",
         "1",
         "1000",
         "2.5",
         "0.005"
        ],
        [
         "33",
         "47.309882424769505",
         "1",
         "1000",
         "2.5",
         "0.005"
        ],
        [
         "34",
         "156.4530717977431",
         "1",
         "1000",
         "2.5",
         "0.005"
        ],
        [
         "35",
         "40.66328211042396",
         "1",
         "1000",
         "2.5",
         "0.005"
        ],
        [
         "36",
         "0.40154352395254883",
         "1",
         "1000",
         "2.5",
         "0.005"
        ],
        [
         "37",
         "196.77072397104362",
         "1",
         "1000",
         "2.5",
         "0.005"
        ],
        [
         "38",
         "113.72084257172676",
         "1",
         "1000",
         "2.5",
         "0.005"
        ],
        [
         "39",
         "183.43163144215302",
         "1",
         "1000",
         "2.5",
         "0.005"
        ],
        [
         "40",
         "150.1653926692698",
         "1",
         "1000",
         "2.5",
         "0.005"
        ],
        [
         "41",
         "45.053997094596575",
         "1",
         "1000",
         "2.5",
         "0.005"
        ],
        [
         "42",
         "137.15610613439733",
         "1",
         "1000",
         "2.5",
         "0.005"
        ],
        [
         "43",
         "103.87434644175909",
         "1",
         "1000",
         "2.5",
         "0.005"
        ],
        [
         "44",
         "91.6113240097521",
         "1",
         "1000",
         "2.5",
         "0.005"
        ],
        [
         "45",
         "28.49629259978417",
         "1",
         "1000",
         "2.5",
         "0.005"
        ],
        [
         "46",
         "107.32414793782117",
         "1",
         "1000",
         "2.5",
         "0.005"
        ],
        [
         "47",
         "94.2046203091658",
         "1",
         "1000",
         "2.5",
         "0.005"
        ],
        [
         "48",
         "32.597574030988255",
         "1",
         "1000",
         "2.5",
         "0.005"
        ],
        [
         "49",
         "138.09249129603634",
         "1",
         "1000",
         "2.5",
         "0.005"
        ]
       ],
       "shape": {
        "columns": 5,
        "rows": 500
       }
      },
      "text/html": [
       "<div>\n",
       "<style scoped>\n",
       "    .dataframe tbody tr th:only-of-type {\n",
       "        vertical-align: middle;\n",
       "    }\n",
       "\n",
       "    .dataframe tbody tr th {\n",
       "        vertical-align: top;\n",
       "    }\n",
       "\n",
       "    .dataframe thead th {\n",
       "        text-align: right;\n",
       "    }\n",
       "</style>\n",
       "<table border=\"1\" class=\"dataframe\">\n",
       "  <thead>\n",
       "    <tr style=\"text-align: right;\">\n",
       "      <th></th>\n",
       "      <th>Wv</th>\n",
       "      <th>hv</th>\n",
       "      <th>Nv</th>\n",
       "      <th>Hs</th>\n",
       "      <th>Hs_L0</th>\n",
       "    </tr>\n",
       "  </thead>\n",
       "  <tbody>\n",
       "    <tr>\n",
       "      <th>0</th>\n",
       "      <td>147.795271</td>\n",
       "      <td>1</td>\n",
       "      <td>1000</td>\n",
       "      <td>2.5</td>\n",
       "      <td>0.005</td>\n",
       "    </tr>\n",
       "    <tr>\n",
       "      <th>1</th>\n",
       "      <td>171.620540</td>\n",
       "      <td>1</td>\n",
       "      <td>1000</td>\n",
       "      <td>2.5</td>\n",
       "      <td>0.005</td>\n",
       "    </tr>\n",
       "    <tr>\n",
       "      <th>2</th>\n",
       "      <td>86.068919</td>\n",
       "      <td>1</td>\n",
       "      <td>1000</td>\n",
       "      <td>2.5</td>\n",
       "      <td>0.005</td>\n",
       "    </tr>\n",
       "    <tr>\n",
       "      <th>3</th>\n",
       "      <td>179.588976</td>\n",
       "      <td>1</td>\n",
       "      <td>1000</td>\n",
       "      <td>2.5</td>\n",
       "      <td>0.005</td>\n",
       "    </tr>\n",
       "    <tr>\n",
       "      <th>4</th>\n",
       "      <td>91.068107</td>\n",
       "      <td>1</td>\n",
       "      <td>1000</td>\n",
       "      <td>2.5</td>\n",
       "      <td>0.005</td>\n",
       "    </tr>\n",
       "    <tr>\n",
       "      <th>...</th>\n",
       "      <td>...</td>\n",
       "      <td>...</td>\n",
       "      <td>...</td>\n",
       "      <td>...</td>\n",
       "      <td>...</td>\n",
       "    </tr>\n",
       "    <tr>\n",
       "      <th>495</th>\n",
       "      <td>35.214145</td>\n",
       "      <td>1</td>\n",
       "      <td>1000</td>\n",
       "      <td>2.5</td>\n",
       "      <td>0.005</td>\n",
       "    </tr>\n",
       "    <tr>\n",
       "      <th>496</th>\n",
       "      <td>170.102108</td>\n",
       "      <td>1</td>\n",
       "      <td>1000</td>\n",
       "      <td>2.5</td>\n",
       "      <td>0.005</td>\n",
       "    </tr>\n",
       "    <tr>\n",
       "      <th>497</th>\n",
       "      <td>34.940957</td>\n",
       "      <td>1</td>\n",
       "      <td>1000</td>\n",
       "      <td>2.5</td>\n",
       "      <td>0.005</td>\n",
       "    </tr>\n",
       "    <tr>\n",
       "      <th>498</th>\n",
       "      <td>180.172712</td>\n",
       "      <td>1</td>\n",
       "      <td>1000</td>\n",
       "      <td>2.5</td>\n",
       "      <td>0.005</td>\n",
       "    </tr>\n",
       "    <tr>\n",
       "      <th>499</th>\n",
       "      <td>20.091538</td>\n",
       "      <td>1</td>\n",
       "      <td>1000</td>\n",
       "      <td>2.5</td>\n",
       "      <td>0.005</td>\n",
       "    </tr>\n",
       "  </tbody>\n",
       "</table>\n",
       "<p>500 rows × 5 columns</p>\n",
       "</div>"
      ],
      "text/plain": [
       "             Wv  hv    Nv   Hs  Hs_L0\n",
       "0    147.795271   1  1000  2.5  0.005\n",
       "1    171.620540   1  1000  2.5  0.005\n",
       "2     86.068919   1  1000  2.5  0.005\n",
       "3    179.588976   1  1000  2.5  0.005\n",
       "4     91.068107   1  1000  2.5  0.005\n",
       "..          ...  ..   ...  ...    ...\n",
       "495   35.214145   1  1000  2.5  0.005\n",
       "496  170.102108   1  1000  2.5  0.005\n",
       "497   34.940957   1  1000  2.5  0.005\n",
       "498  180.172712   1  1000  2.5  0.005\n",
       "499   20.091538   1  1000  2.5  0.005\n",
       "\n",
       "[500 rows x 5 columns]"
      ]
     },
     "execution_count": 75,
     "metadata": {},
     "output_type": "execute_result"
    }
   ],
   "source": [
    "lhs_dataset"
   ]
  },
  {
   "cell_type": "code",
   "execution_count": 84,
   "metadata": {},
   "outputs": [
    {
     "data": {
      "text/plain": [
       "<matplotlib.collections.PathCollection at 0x7fdfe1569d10>"
      ]
     },
     "execution_count": 84,
     "metadata": {},
     "output_type": "execute_result"
    },
    {
     "data": {
      "image/png": "[encoded data removed]",
      "text/plain": [
       "<Figure size 640x480 with 1 Axes>"
      ]
     },
     "metadata": {},
     "output_type": "display_data"
    }
   ],
   "source": [
    "plt.scatter(lhs_dataset[\"Wv\"], Ru_dataset[\"Ru2\"], s=1, color=\"blue\", label=\"LHS Ru2\")"
   ]
  },
  {
   "cell_type": "code",
   "execution_count": 85,
   "metadata": {},
   "outputs": [
    {
     "data": {
      "text/plain": [
       "<matplotlib.colorbar.Colorbar at 0x7fdfe14a6d50>"
      ]
     },
     "execution_count": 85,
     "metadata": {},
     "output_type": "execute_result"
    },
    {
     "data": {
      "image/png": "[encoded data removed]",
      "text/plain": [
       "<Figure size 800x600 with 4 Axes>"
      ]
     },
     "metadata": {},
     "output_type": "display_data"
    }
   ],
   "source": [
    "# Select columns Wd, hv, Nv, Hs, Hs_L0, Ru2\n",
    "fig,axes=plot_scatters_in_triangle(dataframes=[lhs_dataset[[\"Wv\", \"hv\", \"Nv\"]]],s=3,data_colors=[Ru_dataset.Ru2.values])#,data_colors=[\"blue\"])\n",
    "fig.set_size_inches(8, 6)\n",
    "import matplotlib.cm as cm\n",
    "import matplotlib.colors as mcolors\n",
    "\n",
    "vmin=np.nanmin(Ru_dataset.Ru2.values)\n",
    "vmax=np.nanmax(Ru_dataset.Ru2.values)\n",
    "\n",
    "\n",
    "# Crear una normalización y un colormap\n",
    "norm = mcolors.Normalize(vmin=vmin, vmax=vmax)\n",
    "cmap = cm.viridis\n",
    "\n",
    "# Crear el ScalarMappable\n",
    "sm = cm.ScalarMappable(norm=norm, cmap=cmap)\n",
    "fig.colorbar(mappable=sm, ax=axes, label=\"Ru2\", orientation=\"vertical\")"
   ]
  }
 ],
 "metadata": {
  "kernelspec": {
   "display_name": "bluemath_dev",
   "language": "python",
   "name": "python3"
  },
  "language_info": {
   "codemirror_mode": {
    "name": "ipython",
    "version": 3
   },
   "file_extension": ".py",
   "mimetype": "text/x-python",
   "name": "python",
   "nbconvert_exporter": "python",
   "pygments_lexer": "ipython3",
   "version": "3.13.2"
  }
 },
 "nbformat": 4,
 "nbformat_minor": 2
}
