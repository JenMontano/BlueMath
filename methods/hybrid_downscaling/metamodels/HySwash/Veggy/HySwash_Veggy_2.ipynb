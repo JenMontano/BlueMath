{
 "cells": [
  {
   "cell_type": "markdown",
   "metadata": {},
   "source": [
    "# HySwash: A hybrid method for nearshore wave processes\n",
    "\n",
    "![sketch](./assets/hyswash-sketch.png)"
   ]
  },
  {
   "cell_type": "code",
   "execution_count": 1,
   "metadata": {},
   "outputs": [
    {
     "ename": "ModuleNotFoundError",
     "evalue": "No module named 'utils'",
     "output_type": "error",
     "traceback": [
      "\u001b[31m---------------------------------------------------------------------------\u001b[39m",
      "\u001b[31mModuleNotFoundError\u001b[39m                       Traceback (most recent call last)",
      "\u001b[36mCell\u001b[39m\u001b[36m \u001b[39m\u001b[32mIn[1]\u001b[39m\u001b[32m, line 7\u001b[39m\n\u001b[32m      5\u001b[39m \u001b[38;5;28;01mimport\u001b[39;00m\u001b[38;5;250m \u001b[39m\u001b[34;01mos\u001b[39;00m\u001b[34;01m.\u001b[39;00m\u001b[34;01mpath\u001b[39;00m\u001b[38;5;250m \u001b[39m\u001b[38;5;28;01mas\u001b[39;00m\u001b[38;5;250m \u001b[39m\u001b[34;01mop\u001b[39;00m\n\u001b[32m      6\u001b[39m \u001b[38;5;28;01mimport\u001b[39;00m\u001b[38;5;250m \u001b[39m\u001b[34;01mnumpy\u001b[39;00m\u001b[38;5;250m \u001b[39m\u001b[38;5;28;01mas\u001b[39;00m\u001b[38;5;250m \u001b[39m\u001b[34;01mnp\u001b[39;00m\n\u001b[32m----> \u001b[39m\u001b[32m7\u001b[39m \u001b[38;5;28;01mimport\u001b[39;00m\u001b[38;5;250m \u001b[39m\u001b[34;01mutils\u001b[39;00m\u001b[34;01m.\u001b[39;00m\u001b[34;01mplotting\u001b[39;00m\n\u001b[32m      8\u001b[39m \u001b[38;5;28;01mimport\u001b[39;00m\u001b[38;5;250m \u001b[39m\u001b[34;01mbluemath_tk\u001b[39;00m\u001b[34;01m.\u001b[39;00m\u001b[34;01mtopo_bathy\u001b[39;00m\u001b[34;01m.\u001b[39;00m\u001b[34;01mprofiles\u001b[39;00m\n\u001b[32m      9\u001b[39m \u001b[38;5;28;01mfrom\u001b[39;00m\u001b[38;5;250m \u001b[39m\u001b[34;01mbluemath_tk\u001b[39;00m\u001b[34;01m.\u001b[39;00m\u001b[34;01mdatamining\u001b[39;00m\u001b[34;01m.\u001b[39;00m\u001b[34;01mlhs\u001b[39;00m\u001b[38;5;250m \u001b[39m\u001b[38;5;28;01mimport\u001b[39;00m LHS\n",
      "\u001b[31mModuleNotFoundError\u001b[39m: No module named 'utils'"
     ]
    }
   ],
   "source": [
    "import os\n",
    "import os.path as op\n",
    "import numpy as np\n",
    "import os\n",
    "import os.path as op\n",
    "import numpy as np\n",
    "import utils.plotting\n",
    "import bluemath_tk.topo_bathy.profiles\n",
    "from bluemath_tk.datamining.lhs import LHS\n",
    "from bluemath_tk.datamining.mda import MDA\n",
    "from bluemath_tk.waves.series import waves_dispersion \n",
    "from bluemath_tk.wrappers.swash.swash_wrapper import HySwashVeggyModelWrapper\n",
    "from bluemath_tk.core.io import load_model\n",
    "from bluemath_tk.core.plotting.scatter import plot_scatters_in_triangle\n",
    "import xarray as xr\n",
    "import matplotlib.pyplot as plt\n",
    "from utils.plotting import animate_case_propagation\n",
    "from IPython.display import HTML\n",
    "import utils.ChySwash\n",
    "import pandas as pd\n",
    "\n",
    "root_dir = os.getcwd()\n",
    "output_dir = os.path.join(root_dir, \"output_Veggy_Hs_mono\")\n",
    "templates_dir = os.path.join(root_dir, \"templates\", \"HyVeggy\")\n",
    "export_dir = op.join(root_dir, \"exported_Veggy_Hs_mono\")\n",
    "\n"
   ]
  },
  {
   "cell_type": "markdown",
   "metadata": {},
   "source": [
    "If you want to run this notebook using the pickle files exported in Part 1, execute the code below. Otherwise, you can skip it. Sometimes the download hangs. If it happens, run the cell again"
   ]
  },
  {
   "cell_type": "code",
   "execution_count": null,
   "metadata": {},
   "outputs": [],
   "source": [
    "import requests\n",
    "import tarfile\n",
    "import os\n",
    "\n",
    "url = \"https://geoocean.sci.unican.es/data/exported_Veggy_Hs_mono.tar.gz\"\n",
    "response = requests.get(url, stream=True)\n",
    "file = tarfile.open(fileobj=response.raw, mode=\"r|gz\")\n",
    "file.extractall(path=root_dir)"
   ]
  },
  {
   "cell_type": "markdown",
   "metadata": {},
   "source": [
    "Load swash_model and mda from a pickle file and postprocessed_output NetCDF file"
   ]
  },
  {
   "cell_type": "code",
   "execution_count": 33,
   "metadata": {},
   "outputs": [],
   "source": [
    "mda=load_model(op.join(export_dir, \"mda_model.pkl\"))\n",
    "swash_model=load_model(op.join(export_dir, \"swash_model.pkl\"))\n",
    "depth_file=op.join(templates_dir,\"depth.bot\")\n",
    "depth_array = np.loadtxt(depth_file)\n",
    "postprocessed_output = xr.open_dataset(op.join(export_dir, \"output_postprocessed_clean.nc\"))"
   ]
  },
  {
   "cell_type": "markdown",
   "metadata": {},
   "source": [
    "## 5. Reconstruction: Principal Component Analysis (PCA) & Radial Basis Fucntions (RBF)\n",
    "\n",
    "The reconstruction of the time series of wave parameters in the position of the buoy is carried out by an interpolation technique based on radial basis functions (RBF), a scheme wich is very convenient for scatter and multivariate data. The RBF approximation has been applied successfully in many fields, usually with better results than other interpolation methods (Hardy, 1990).\n",
    "    \n",
    "Suppose that $f=f(x)$ is the real-valued function that we want to approximate. We are given M scattered data points $\\{x_1,..., x_M\\}$ of dimension $\\textit{n}$ and the associated real function values $\\{f_1, ..., f_M\\}$, being $f_i = f(x_j), j = 1,...,M$. The RBF interpolation method consists of a weighted sum of radially symmetric basic functions located at the data points. The approximation function is assumed to be of the form:\n",
    "$$RBF(x) = p(x) + \\sum\\limits_{j=1}^M a_j\\Phi{\\large (}{\\large \\parallel}{x - x_j}{\\large \\parallel}{\\large )}$$\n",
    "\n",
    "### Hs reconstruction"
   ]
  },
  {
   "cell_type": "code",
   "execution_count": null,
   "metadata": {},
   "outputs": [],
   "source": [
    "from bluemath_tk.datamining.pca import PCA\n",
    "from bluemath_tk.interpolation.rbf import RBF\n",
    "\n",
    "postprocessed_output=postprocessed_output.copy(deep=True)\n",
    "\n",
    "# Apply PCA to the postprocessed output\n",
    "pca = PCA()\n",
    "_pcs_ds = pca.fit_transform(\n",
    "    data=postprocessed_output,\n",
    "    vars_to_stack=[\"Hs\"],\n",
    "    coords_to_stack=[\"Xp\"],\n",
    "    pca_dim_for_rows=\"case_num\",\n",
    "    value_to_replace_nans={\"Hs\": 0.0},\n",
    ")\n",
    "\n",
    "# Apply RBF reconstruction\n",
    "rbf = RBF()\n",
    "rbf.fit(\n",
    "    subset_data=mda.centroids.iloc[postprocessed_output[\"case_num\"].values, :],\n",
    "    target_data=pca.pcs_df,\n",
    ")\n",
    "\n",
    "pca.save_model(\n",
    "    model_path=op.join(export_dir, \"pca_model.pkl\"),\n",
    ")\n",
    "rbf.save_model(\n",
    "    model_path=op.join(export_dir, \"rbf_model.pkl\"),\n",
    ")"
   ]
  },
  {
   "cell_type": "markdown",
   "metadata": {},
   "source": [
    "The process PCA + RBF takes 2 hours. To avoid run them again we can load the models from the exported folder"
   ]
  },
  {
   "cell_type": "code",
   "execution_count": null,
   "metadata": {},
   "outputs": [],
   "source": [
    "pca=load_model(op.join(export_dir, \"pca_model.pkl\"))\n",
    "rbf=load_model(op.join(export_dir, \"rbf_modelaunchSwash.sh --case-dir $folder > $folder/wrapper_out.log 2> $folder/wrapper_err.log\n",
    "l.pkl\"))"
   ]
  },
  {
   "cell_type": "markdown",
   "metadata": {},
   "source": [
    "Visualize the effect of the plants on Hs"
   ]
  },
  {
   "cell_type": "code",
   "execution_count": null,
   "metadata": {},
   "outputs": [
    {
     "data": {
      "application/vnd.jupyter.widget-view+json": {
       "model_id": "4759d6f9f82d4584b39b2796e58dce73",
       "version_major": 2,
       "version_minor": 0
      },
      "text/plain": [
       "interactive(children=(FloatSlider(value=1.4363502971184063, description='Hs', max=3.0, min=0.5, step=0.25), Fl…"
      ]
     },
     "metadata": {},
     "output_type": "display_data"
    },
    {
     "data": {
      "text/plain": [
       "<function utils.plotting.show_graph_for_different_parameters.<locals>.update_plot(Hs, Hs_L0, Wv, hv, Nv)>"
      ]
     },
     "execution_count": 35,
     "metadata": {},
     "output_type": "execute_result"
    }
   ],
   "source": [
    "import importlib\n",
    "import utils.plotting\n",
    "importlib.reload(utils.plotting)\n",
    "from utils.plotting import show_graph_for_different_parameters\n",
    "\n",
    "variables_to_analyse_in_metamodel = [\"Hs\", \"Hs_L0\", \"Wv\",\"hv\",\"Nv\"]\n",
    "lhs_parameters = {\n",
    "    \"num_dimensions\": 5,\n",
    "    \"num_samples\": 11000,\n",
    "    \"dimensions_names\": variables_to_analyse_in_metamodel,\n",
    "    \"lower_bounds\": [0.5, 0.003, 0, 0, 0],\n",
    "    \"upper_bounds\": [3, 0.01, 200, 1.5, 1000],\n",
    "}\n",
    "utils.plotting.show_graph_for_different_parameters(pca=pca, rbf=rbf,lhs_parameters=lhs_parameters,depthfile=depth_file)"
   ]
  }
 ],
 "metadata": {
  "kernelspec": {
   "display_name": "base",
   "language": "python",
   "name": "python3"
  },
  "language_info": {
   "codemirror_mode": {
    "name": "ipython",
    "version": 3
   },
   "file_extension": ".py",
   "mimetype": "text/x-python",
   "name": "python",
   "nbconvert_exporter": "python",
   "pygments_lexer": "ipython3",
   "version": "3.12.10"
  }
 },
 "nbformat": 4,
 "nbformat_minor": 2
}
