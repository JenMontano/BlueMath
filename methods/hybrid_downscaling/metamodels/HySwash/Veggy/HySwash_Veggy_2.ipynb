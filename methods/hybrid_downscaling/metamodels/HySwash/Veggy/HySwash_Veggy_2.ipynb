{
 "cells": [
  {
   "cell_type": "markdown",
   "metadata": {},
   "source": [
    "# HySwash: A hybrid method for nearshore wave processes"
   ]
  },
  {
   "cell_type": "code",
   "execution_count": null,
   "metadata": {},
   "outputs": [],
   "source": [
    "import os\n",
    "import os.path as op\n",
    "\n",
    "import numpy as np\n",
    "import xarray as xr\n",
    "\n",
    "from bluemath_tk.core.io import load_model\n",
    "\n",
    "import sys\n",
    "\n",
    "sys.path.insert(0, \"..\")\n",
    "from utils.plotting import show_graph_for_different_parameters\n",
    "\n",
    "root_dir = os.getcwd()\n",
    "output_dir = op.join(root_dir, \"output_Veggy_Hs_mono\")\n",
    "templates_dir = op.join(root_dir, \"templates\")\n",
    "export_dir = op.join(root_dir, \"exported_Veggy_Hs_mono\")\n",
    "os.makedirs(export_dir, exist_ok=True)\n",
    "\n",
    "os.environ[\"OMP_NUM_THREADS\"] = \"1\""
   ]
  },
  {
   "cell_type": "markdown",
   "metadata": {},
   "source": [
    "If you want to run this notebook using the pickle files exported in Part 1, execute the code below. Otherwise, you can skip it. Sometimes the download hangs. If it happens, run the cell again"
   ]
  },
  {
   "cell_type": "code",
   "execution_count": 2,
   "metadata": {},
   "outputs": [
    {
     "name": "stderr",
     "output_type": "stream",
     "text": [
      "/tmp/ipykernel_15740/2830324098.py:7: DeprecationWarning: Python 3.14 will, by default, filter extracted tar archives and reject files or modify their metadata. Use the filter argument to control this behavior.\n",
      "  file.extractall(path=root_dir)\n"
     ]
    }
   ],
   "source": [
    "import requests\n",
    "import tarfile\n",
    "\n",
    "url = \"https://geoocean.sci.unican.es/data/exported_Veggy_Hs_mono.tar.gz\"\n",
    "response = requests.get(url, stream=True)\n",
    "file = tarfile.open(fileobj=response.raw, mode=\"r|gz\")\n",
    "file.extractall(path=root_dir)"
   ]
  },
  {
   "cell_type": "markdown",
   "metadata": {},
   "source": [
    "Load swash_model and mda from a pickle file and postprocessed_output NetCDF file"
   ]
  },
  {
   "cell_type": "code",
   "execution_count": 3,
   "metadata": {},
   "outputs": [],
   "source": [
    "mda_model = load_model(op.join(export_dir, \"mda_model.pkl\"))\n",
    "swash_model = load_model(op.join(export_dir, \"swash_model.pkl\"))\n",
    "depth_file = op.join(templates_dir, \"depth.bot\")\n",
    "depth_array = np.loadtxt(depth_file)\n",
    "postprocessed_output = xr.open_dataset(\n",
    "    op.join(export_dir, \"output_postprocessed_clean.nc\")\n",
    ")"
   ]
  },
  {
   "cell_type": "markdown",
   "metadata": {},
   "source": [
    "## 5. Reconstruction: Principal Component Analysis (PCA) & Radial Basis Fucntions (RBF)\n",
    "\n",
    "The reconstruction of the time series of wave parameters in the position of the buoy is carried out by an interpolation technique based on radial basis functions (RBF), a scheme wich is very convenient for scatter and multivariate data. The RBF approximation has been applied successfully in many fields, usually with better results than other interpolation methods (Hardy, 1990).\n",
    "    \n",
    "Suppose that $f=f(x)$ is the real-valued function that we want to approximate. We are given M scattered data points $\\{x_1,..., x_M\\}$ of dimension $\\textit{n}$ and the associated real function values $\\{f_1, ..., f_M\\}$, being $f_i = f(x_j), j = 1,...,M$. The RBF interpolation method consists of a weighted sum of radially symmetric basic functions located at the data points. The approximation function is assumed to be of the form:\n",
    "$$RBF(x) = p(x) + \\sum\\limits_{j=1}^M a_j\\Phi{\\large (}{\\large \\parallel}{x - x_j}{\\large \\parallel}{\\large )}$$\n",
    "\n",
    "### Hs reconstruction"
   ]
  },
  {
   "cell_type": "code",
   "execution_count": 5,
   "metadata": {},
   "outputs": [
    {
     "name": "stdout",
     "output_type": "stream",
     "text": [
      "\n",
      "        -------------------------------------------------------------------\n",
      "        | Initializing PCA reduction model with the following parameters:\n",
      "        |    - n_components: 0.98\n",
      "        |    - is_incremental: False\n",
      "        | For more information, please refer to the documentation.\n",
      "        -------------------------------------------------------------------\n",
      "        \n",
      "\n",
      "        ---------------------------------------------------------------------------------\n",
      "        | Initializing RBF interpolation model with the following parameters:\n",
      "        |    - sigma_min: 0.001\n",
      "        |    - sigma_max: 0.1\n",
      "        |    - sigma_diff: 0.0001\n",
      "        |    - sigma_opt: None\n",
      "        |    - kernel: gaussian\n",
      "        |    - smooth: 1e-05\n",
      "        | For more information, please refer to the documentation.\n",
      "        | Recommended lecture: https://link.springer.com/article/10.1023/A:1018975909870\n",
      "        ---------------------------------------------------------------------------------\n",
      "        \n"
     ]
    },
    {
     "ename": "KeyboardInterrupt",
     "evalue": "",
     "output_type": "error",
     "traceback": [
      "\u001b[31m---------------------------------------------------------------------------\u001b[39m",
      "\u001b[31mKeyboardInterrupt\u001b[39m                         Traceback (most recent call last)",
      "\u001b[36mCell\u001b[39m\u001b[36m \u001b[39m\u001b[32mIn[5]\u001b[39m\u001b[32m, line 18\u001b[39m\n\u001b[32m     16\u001b[39m \u001b[38;5;66;03m# Apply RBF reconstruction\u001b[39;00m\n\u001b[32m     17\u001b[39m rbf = RBF()\n\u001b[32m---> \u001b[39m\u001b[32m18\u001b[39m \u001b[43mrbf\u001b[49m\u001b[43m.\u001b[49m\u001b[43mfit\u001b[49m\u001b[43m(\u001b[49m\n\u001b[32m     19\u001b[39m \u001b[43m    \u001b[49m\u001b[43msubset_data\u001b[49m\u001b[43m=\u001b[49m\u001b[43mmda_model\u001b[49m\u001b[43m.\u001b[49m\u001b[43mcentroids\u001b[49m\u001b[43m.\u001b[49m\u001b[43miloc\u001b[49m\u001b[43m[\u001b[49m\u001b[43mpostprocessed_output\u001b[49m\u001b[43m[\u001b[49m\u001b[33;43m\"\u001b[39;49m\u001b[33;43mcase_num\u001b[39;49m\u001b[33;43m\"\u001b[39;49m\u001b[43m]\u001b[49m\u001b[43m.\u001b[49m\u001b[43mvalues\u001b[49m\u001b[43m,\u001b[49m\u001b[43m \u001b[49m\u001b[43m:\u001b[49m\u001b[43m]\u001b[49m\u001b[43m,\u001b[49m\n\u001b[32m     20\u001b[39m \u001b[43m    \u001b[49m\u001b[43mtarget_data\u001b[49m\u001b[43m=\u001b[49m\u001b[43mpca\u001b[49m\u001b[43m.\u001b[49m\u001b[43mpcs_df\u001b[49m\u001b[43m,\u001b[49m\n\u001b[32m     21\u001b[39m \u001b[43m)\u001b[49m\n\u001b[32m     23\u001b[39m pca.save_model(\n\u001b[32m     24\u001b[39m     model_path=op.join(export_dir, \u001b[33m\"\u001b[39m\u001b[33mpca_model.pkl\u001b[39m\u001b[33m\"\u001b[39m),\n\u001b[32m     25\u001b[39m )\n\u001b[32m     26\u001b[39m rbf.save_model(\n\u001b[32m     27\u001b[39m     model_path=op.join(export_dir, \u001b[33m\"\u001b[39m\u001b[33mrbf_model.pkl\u001b[39m\u001b[33m\"\u001b[39m),\n\u001b[32m     28\u001b[39m )\n",
      "\u001b[36mFile \u001b[39m\u001b[32m/workspaces/BlueMath_tk/bluemath_tk/core/decorators.py:376\u001b[39m, in \u001b[36mvalidate_data_rbf.<locals>.wrapper\u001b[39m\u001b[34m(self, subset_data, target_data, subset_directional_variables, target_directional_variables, subset_custom_scale_factor, normalize_target_data, target_custom_scale_factor, num_workers, iteratively_update_sigma)\u001b[39m\n\u001b[32m    374\u001b[39m \u001b[38;5;28;01mif\u001b[39;00m \u001b[38;5;129;01mnot\u001b[39;00m \u001b[38;5;28misinstance\u001b[39m(iteratively_update_sigma, \u001b[38;5;28mbool\u001b[39m):\n\u001b[32m    375\u001b[39m     \u001b[38;5;28;01mraise\u001b[39;00m \u001b[38;5;167;01mTypeError\u001b[39;00m(\u001b[33m\"\u001b[39m\u001b[33mIteratively update sigma must be a boolean\u001b[39m\u001b[33m\"\u001b[39m)\n\u001b[32m--> \u001b[39m\u001b[32m376\u001b[39m \u001b[38;5;28;01mreturn\u001b[39;00m \u001b[43mfunc\u001b[49m\u001b[43m(\u001b[49m\n\u001b[32m    377\u001b[39m \u001b[43m    \u001b[49m\u001b[38;5;28;43mself\u001b[39;49m\u001b[43m,\u001b[49m\n\u001b[32m    378\u001b[39m \u001b[43m    \u001b[49m\u001b[43msubset_data\u001b[49m\u001b[43m,\u001b[49m\n\u001b[32m    379\u001b[39m \u001b[43m    \u001b[49m\u001b[43mtarget_data\u001b[49m\u001b[43m,\u001b[49m\n\u001b[32m    380\u001b[39m \u001b[43m    \u001b[49m\u001b[43msubset_directional_variables\u001b[49m\u001b[43m,\u001b[49m\n\u001b[32m    381\u001b[39m \u001b[43m    \u001b[49m\u001b[43mtarget_directional_variables\u001b[49m\u001b[43m,\u001b[49m\n\u001b[32m    382\u001b[39m \u001b[43m    \u001b[49m\u001b[43msubset_custom_scale_factor\u001b[49m\u001b[43m,\u001b[49m\n\u001b[32m    383\u001b[39m \u001b[43m    \u001b[49m\u001b[43mnormalize_target_data\u001b[49m\u001b[43m,\u001b[49m\n\u001b[32m    384\u001b[39m \u001b[43m    \u001b[49m\u001b[43mtarget_custom_scale_factor\u001b[49m\u001b[43m,\u001b[49m\n\u001b[32m    385\u001b[39m \u001b[43m    \u001b[49m\u001b[43mnum_workers\u001b[49m\u001b[43m,\u001b[49m\n\u001b[32m    386\u001b[39m \u001b[43m    \u001b[49m\u001b[43miteratively_update_sigma\u001b[49m\u001b[43m,\u001b[49m\n\u001b[32m    387\u001b[39m \u001b[43m\u001b[49m\u001b[43m)\u001b[49m\n",
      "\u001b[36mFile \u001b[39m\u001b[32m/workspaces/BlueMath_tk/bluemath_tk/interpolation/rbf.py:917\u001b[39m, in \u001b[36mRBF.fit\u001b[39m\u001b[34m(self, subset_data, target_data, subset_directional_variables, target_directional_variables, subset_custom_scale_factor, normalize_target_data, target_custom_scale_factor, num_workers, iteratively_update_sigma)\u001b[39m\n\u001b[32m    915\u001b[39m \u001b[38;5;28mself\u001b[39m.logger.info(\u001b[33mf\u001b[39m\u001b[33m\"\u001b[39m\u001b[33mFitting RBF for variable \u001b[39m\u001b[38;5;132;01m{\u001b[39;00mtarget_var\u001b[38;5;132;01m}\u001b[39;00m\u001b[33m\"\u001b[39m)\n\u001b[32m    916\u001b[39m target_var_values = target_data[target_var].values\n\u001b[32m--> \u001b[39m\u001b[32m917\u001b[39m rbf_coeff, opt_sigma = \u001b[38;5;28;43mself\u001b[39;49m\u001b[43m.\u001b[49m\u001b[43m_calc_opt_sigma\u001b[49m\u001b[43m(\u001b[49m\n\u001b[32m    918\u001b[39m \u001b[43m    \u001b[49m\u001b[43mtarget_variable\u001b[49m\u001b[43m=\u001b[49m\u001b[43mtarget_var_values\u001b[49m\u001b[43m,\u001b[49m\n\u001b[32m    919\u001b[39m \u001b[43m    \u001b[49m\u001b[43msubset_variables\u001b[49m\u001b[43m=\u001b[49m\u001b[43msubset_data\u001b[49m\u001b[43m.\u001b[49m\u001b[43mvalues\u001b[49m\u001b[43m.\u001b[49m\u001b[43mT\u001b[49m\u001b[43m,\u001b[49m\n\u001b[32m    920\u001b[39m \u001b[43m    \u001b[49m\u001b[43miteratively_update_sigma\u001b[49m\u001b[43m=\u001b[49m\u001b[43miteratively_update_sigma\u001b[49m\u001b[43m,\u001b[49m\n\u001b[32m    921\u001b[39m \u001b[43m\u001b[49m\u001b[43m)\u001b[49m\n\u001b[32m    922\u001b[39m rbf_coeffs[target_var] = rbf_coeff.flatten()\n\u001b[32m    923\u001b[39m opt_sigmas[target_var] = opt_sigma\n",
      "\u001b[36mFile \u001b[39m\u001b[32m/workspaces/BlueMath_tk/bluemath_tk/interpolation/rbf.py:664\u001b[39m, in \u001b[36mRBF._calc_opt_sigma\u001b[39m\u001b[34m(self, target_variable, subset_variables, iteratively_update_sigma)\u001b[39m\n\u001b[32m    661\u001b[39m \u001b[38;5;28;01melse\u001b[39;00m:\n\u001b[32m    662\u001b[39m     \u001b[38;5;66;03m# Loop until sigma_diff is less than the specified sigma_diff\u001b[39;00m\n\u001b[32m    663\u001b[39m     \u001b[38;5;28;01mwhile\u001b[39;00m d_sigma < \u001b[38;5;28mself\u001b[39m.sigma_diff:\n\u001b[32m--> \u001b[39m\u001b[32m664\u001b[39m         opt_sigma = \u001b[43mfminbound\u001b[49m\u001b[43m(\u001b[49m\n\u001b[32m    665\u001b[39m \u001b[43m            \u001b[49m\u001b[43mfunc\u001b[49m\u001b[43m=\u001b[49m\u001b[38;5;28;43mself\u001b[39;49m\u001b[43m.\u001b[49m\u001b[43m_cost_sigma\u001b[49m\u001b[43m,\u001b[49m\n\u001b[32m    666\u001b[39m \u001b[43m            \u001b[49m\u001b[43mx1\u001b[49m\u001b[43m=\u001b[49m\u001b[43msigma_min\u001b[49m\u001b[43m,\u001b[49m\n\u001b[32m    667\u001b[39m \u001b[43m            \u001b[49m\u001b[43mx2\u001b[49m\u001b[43m=\u001b[49m\u001b[43msigma_max\u001b[49m\u001b[43m,\u001b[49m\n\u001b[32m    668\u001b[39m \u001b[43m            \u001b[49m\u001b[43margs\u001b[49m\u001b[43m=\u001b[49m\u001b[43m(\u001b[49m\u001b[43msubset_variables\u001b[49m\u001b[43m,\u001b[49m\u001b[43m \u001b[49m\u001b[43mtarget_variable\u001b[49m\u001b[43m)\u001b[49m\u001b[43m,\u001b[49m\n\u001b[32m    669\u001b[39m \u001b[43m            \u001b[49m\u001b[43mdisp\u001b[49m\u001b[43m=\u001b[49m\u001b[32;43m0\u001b[39;49m\u001b[43m,\u001b[49m\n\u001b[32m    670\u001b[39m \u001b[43m        \u001b[49m\u001b[43m)\u001b[49m\n\u001b[32m    671\u001b[39m         lm_min = np.abs(opt_sigma - sigma_min)\n\u001b[32m    672\u001b[39m         lm_max = np.abs(opt_sigma - sigma_max)\n",
      "\u001b[36mFile \u001b[39m\u001b[32m/opt/conda/lib/python3.12/site-packages/scipy/optimize/_optimize.py:2244\u001b[39m, in \u001b[36mfminbound\u001b[39m\u001b[34m(func, x1, x2, args, xtol, maxfun, full_output, disp)\u001b[39m\n\u001b[32m   2159\u001b[39m \u001b[38;5;250m\u001b[39m\u001b[33;03m\"\"\"Bounded minimization for scalar functions.\u001b[39;00m\n\u001b[32m   2160\u001b[39m \n\u001b[32m   2161\u001b[39m \u001b[33;03mParameters\u001b[39;00m\n\u001b[32m   (...)\u001b[39m\u001b[32m   2238\u001b[39m \u001b[33;03m(4.000023843479476, 4.000023843479476)\u001b[39;00m\n\u001b[32m   2239\u001b[39m \u001b[33;03m\"\"\"\u001b[39;00m\n\u001b[32m   2240\u001b[39m options = {\u001b[33m'\u001b[39m\u001b[33mxatol\u001b[39m\u001b[33m'\u001b[39m: xtol,\n\u001b[32m   2241\u001b[39m            \u001b[33m'\u001b[39m\u001b[33mmaxiter\u001b[39m\u001b[33m'\u001b[39m: maxfun,\n\u001b[32m   2242\u001b[39m            \u001b[33m'\u001b[39m\u001b[33mdisp\u001b[39m\u001b[33m'\u001b[39m: disp}\n\u001b[32m-> \u001b[39m\u001b[32m2244\u001b[39m res = \u001b[43m_minimize_scalar_bounded\u001b[49m\u001b[43m(\u001b[49m\u001b[43mfunc\u001b[49m\u001b[43m,\u001b[49m\u001b[43m \u001b[49m\u001b[43m(\u001b[49m\u001b[43mx1\u001b[49m\u001b[43m,\u001b[49m\u001b[43m \u001b[49m\u001b[43mx2\u001b[49m\u001b[43m)\u001b[49m\u001b[43m,\u001b[49m\u001b[43m \u001b[49m\u001b[43margs\u001b[49m\u001b[43m,\u001b[49m\u001b[43m \u001b[49m\u001b[43m*\u001b[49m\u001b[43m*\u001b[49m\u001b[43moptions\u001b[49m\u001b[43m)\u001b[49m\n\u001b[32m   2245\u001b[39m \u001b[38;5;28;01mif\u001b[39;00m full_output:\n\u001b[32m   2246\u001b[39m     \u001b[38;5;28;01mreturn\u001b[39;00m res[\u001b[33m'\u001b[39m\u001b[33mx\u001b[39m\u001b[33m'\u001b[39m], res[\u001b[33m'\u001b[39m\u001b[33mfun\u001b[39m\u001b[33m'\u001b[39m], res[\u001b[33m'\u001b[39m\u001b[33mstatus\u001b[39m\u001b[33m'\u001b[39m], res[\u001b[33m'\u001b[39m\u001b[33mnfev\u001b[39m\u001b[33m'\u001b[39m]\n",
      "\u001b[36mFile \u001b[39m\u001b[32m/opt/conda/lib/python3.12/site-packages/scipy/optimize/_optimize.py:2351\u001b[39m, in \u001b[36m_minimize_scalar_bounded\u001b[39m\u001b[34m(func, bounds, args, xatol, maxiter, disp, **unknown_options)\u001b[39m\n\u001b[32m   2349\u001b[39m si = np.sign(rat) + (rat == \u001b[32m0\u001b[39m)\n\u001b[32m   2350\u001b[39m x = xf + si * np.maximum(np.abs(rat), tol1)\n\u001b[32m-> \u001b[39m\u001b[32m2351\u001b[39m fu = \u001b[43mfunc\u001b[49m\u001b[43m(\u001b[49m\u001b[43mx\u001b[49m\u001b[43m,\u001b[49m\u001b[43m \u001b[49m\u001b[43m*\u001b[49m\u001b[43margs\u001b[49m\u001b[43m)\u001b[49m\n\u001b[32m   2352\u001b[39m num += \u001b[32m1\u001b[39m\n\u001b[32m   2353\u001b[39m fmin_data = (num, x, fu)\n",
      "\u001b[36mFile \u001b[39m\u001b[32m/workspaces/BlueMath_tk/bluemath_tk/interpolation/rbf.py:603\u001b[39m, in \u001b[36mRBF._cost_sigma\u001b[39m\u001b[34m(self, sigma, x, y)\u001b[39m\n\u001b[32m    600\u001b[39m A = A[:n, :n]\n\u001b[32m    602\u001b[39m \u001b[38;5;66;03m# Compute the pseudo-inverse of the submatrix A\u001b[39;00m\n\u001b[32m--> \u001b[39m\u001b[32m603\u001b[39m invA = \u001b[43mnp\u001b[49m\u001b[43m.\u001b[49m\u001b[43mlinalg\u001b[49m\u001b[43m.\u001b[49m\u001b[43mpinv\u001b[49m\u001b[43m(\u001b[49m\u001b[43mA\u001b[49m\u001b[43m)\u001b[49m\n\u001b[32m    605\u001b[39m \u001b[38;5;66;03m# Initialize residuals by subtracting the last m elements of rbf_coeff from y\u001b[39;00m\n\u001b[32m    606\u001b[39m m1, n1 = rbf_coeff.shape\n",
      "\u001b[36mFile \u001b[39m\u001b[32m/opt/conda/lib/python3.12/site-packages/numpy/linalg/_linalg.py:2231\u001b[39m, in \u001b[36mpinv\u001b[39m\u001b[34m(a, rcond, hermitian, rtol)\u001b[39m\n\u001b[32m   2229\u001b[39m     \u001b[38;5;28;01mreturn\u001b[39;00m wrap(res)\n\u001b[32m   2230\u001b[39m a = a.conjugate()\n\u001b[32m-> \u001b[39m\u001b[32m2231\u001b[39m u, s, vt = \u001b[43msvd\u001b[49m\u001b[43m(\u001b[49m\u001b[43ma\u001b[49m\u001b[43m,\u001b[49m\u001b[43m \u001b[49m\u001b[43mfull_matrices\u001b[49m\u001b[43m=\u001b[49m\u001b[38;5;28;43;01mFalse\u001b[39;49;00m\u001b[43m,\u001b[49m\u001b[43m \u001b[49m\u001b[43mhermitian\u001b[49m\u001b[43m=\u001b[49m\u001b[43mhermitian\u001b[49m\u001b[43m)\u001b[49m\n\u001b[32m   2233\u001b[39m \u001b[38;5;66;03m# discard small singular values\u001b[39;00m\n\u001b[32m   2234\u001b[39m cutoff = rcond[..., newaxis] * amax(s, axis=-\u001b[32m1\u001b[39m, keepdims=\u001b[38;5;28;01mTrue\u001b[39;00m)\n",
      "\u001b[36mFile \u001b[39m\u001b[32m/opt/conda/lib/python3.12/site-packages/numpy/linalg/_linalg.py:1812\u001b[39m, in \u001b[36msvd\u001b[39m\u001b[34m(a, full_matrices, compute_uv, hermitian)\u001b[39m\n\u001b[32m   1808\u001b[39m signature = \u001b[33m'\u001b[39m\u001b[33mD->DdD\u001b[39m\u001b[33m'\u001b[39m \u001b[38;5;28;01mif\u001b[39;00m isComplexType(t) \u001b[38;5;28;01melse\u001b[39;00m \u001b[33m'\u001b[39m\u001b[33md->ddd\u001b[39m\u001b[33m'\u001b[39m\n\u001b[32m   1809\u001b[39m \u001b[38;5;28;01mwith\u001b[39;00m errstate(call=_raise_linalgerror_svd_nonconvergence,\n\u001b[32m   1810\u001b[39m               invalid=\u001b[33m'\u001b[39m\u001b[33mcall\u001b[39m\u001b[33m'\u001b[39m, over=\u001b[33m'\u001b[39m\u001b[33mignore\u001b[39m\u001b[33m'\u001b[39m, divide=\u001b[33m'\u001b[39m\u001b[33mignore\u001b[39m\u001b[33m'\u001b[39m,\n\u001b[32m   1811\u001b[39m               under=\u001b[33m'\u001b[39m\u001b[33mignore\u001b[39m\u001b[33m'\u001b[39m):\n\u001b[32m-> \u001b[39m\u001b[32m1812\u001b[39m     u, s, vh = \u001b[43mgufunc\u001b[49m\u001b[43m(\u001b[49m\u001b[43ma\u001b[49m\u001b[43m,\u001b[49m\u001b[43m \u001b[49m\u001b[43msignature\u001b[49m\u001b[43m=\u001b[49m\u001b[43msignature\u001b[49m\u001b[43m)\u001b[49m\n\u001b[32m   1813\u001b[39m u = u.astype(result_t, copy=\u001b[38;5;28;01mFalse\u001b[39;00m)\n\u001b[32m   1814\u001b[39m s = s.astype(_realType(result_t), copy=\u001b[38;5;28;01mFalse\u001b[39;00m)\n",
      "\u001b[31mKeyboardInterrupt\u001b[39m: "
     ]
    }
   ],
   "source": [
    "from bluemath_tk.datamining.pca import PCA\n",
    "from bluemath_tk.interpolation.rbf import RBF\n",
    "\n",
    "postprocessed_output = postprocessed_output.copy(deep=True)\n",
    "\n",
    "# Apply PCA to the postprocessed output\n",
    "pca = PCA()\n",
    "_pcs_ds = pca.fit_transform(\n",
    "    data=postprocessed_output,\n",
    "    vars_to_stack=[\"Hs\"],\n",
    "    coords_to_stack=[\"Xp\"],\n",
    "    pca_dim_for_rows=\"case_num\",\n",
    "    value_to_replace_nans={\"Hs\": 0.0},\n",
    ")\n",
    "\n",
    "# Apply RBF reconstruction\n",
    "rbf = RBF()\n",
    "rbf.fit(\n",
    "    subset_data=mda_model.centroids.iloc[postprocessed_output[\"case_num\"].values, :],\n",
    "    target_data=pca.pcs_df,\n",
    ")\n",
    "\n",
    "pca.save_model(\n",
    "    model_path=op.join(export_dir, \"pca_model.pkl\"),\n",
    ")\n",
    "rbf.save_model(\n",
    "    model_path=op.join(export_dir, \"rbf_model.pkl\"),\n",
    ")"
   ]
  },
  {
   "cell_type": "markdown",
   "metadata": {},
   "source": [
    "The process PCA + RBF takes 2 hours. To avoid run them again we can load the models from the exported folder"
   ]
  },
  {
   "cell_type": "code",
   "execution_count": null,
   "metadata": {},
   "outputs": [],
   "source": [
    "pca = load_model(op.join(export_dir, \"pca_model.pkl\"))\n",
    "rbf = load_model(op.join(export_dir, \"rbf_model.pkl\"))"
   ]
  },
  {
   "cell_type": "markdown",
   "metadata": {},
   "source": [
    "Visualize the effect of the plants on Hs"
   ]
  },
  {
   "cell_type": "code",
   "execution_count": 8,
   "metadata": {},
   "outputs": [
    {
     "data": {
      "application/vnd.jupyter.widget-view+json": {
       "model_id": "5d6e42a5c78148389ecc3ab836af6189",
       "version_major": 2,
       "version_minor": 0
      },
      "text/plain": [
       "interactive(children=(FloatSlider(value=1.4363502971184063, description='Hs', max=3.0, min=0.5, step=0.25), Fl…"
      ]
     },
     "metadata": {},
     "output_type": "display_data"
    },
    {
     "data": {
      "text/plain": [
       "<function utils.plotting.show_graph_for_different_parameters.<locals>.update_plot(Hs, Hs_L0, Wv, hv, Nv)>"
      ]
     },
     "execution_count": 8,
     "metadata": {},
     "output_type": "execute_result"
    }
   ],
   "source": [
    "variables_to_analyse_in_metamodel = [\"Hs\", \"Hs_L0\", \"Wv\", \"hv\", \"Nv\"]\n",
    "lhs_parameters = {\n",
    "    \"num_dimensions\": 5,\n",
    "    \"num_samples\": 11000,\n",
    "    \"dimensions_names\": variables_to_analyse_in_metamodel,\n",
    "    \"lower_bounds\": [0.5, 0.003, 0, 0, 0],\n",
    "    \"upper_bounds\": [3, 0.01, 200, 1.5, 1000],\n",
    "}\n",
    "\n",
    "show_graph_for_different_parameters(\n",
    "    pca=pca, rbf=rbf, lhs_parameters=lhs_parameters, depthfile=depth_file\n",
    ")"
   ]
  }
 ],
 "metadata": {
  "kernelspec": {
   "display_name": "base",
   "language": "python",
   "name": "python3"
  },
  "language_info": {
   "codemirror_mode": {
    "name": "ipython",
    "version": 3
   },
   "file_extension": ".py",
   "mimetype": "text/x-python",
   "name": "python",
   "nbconvert_exporter": "python",
   "pygments_lexer": "ipython3",
   "version": "3.12.10"
  }
 },
 "nbformat": 4,
 "nbformat_minor": 2
}
