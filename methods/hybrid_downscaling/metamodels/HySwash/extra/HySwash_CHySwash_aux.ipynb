{
 "cells": [
  {
   "cell_type": "code",
   "execution_count": null,
   "metadata": {},
   "outputs": [],
   "source": [
    "# Build the input files\n",
    "swash_wrapper.build_cases(mode=\"one_by_one\")\n",
    "swash_wrapper.set_cases_dirs_from_output_dir()\n",
    "# Run the model using docker_serial launcher\n",
    "swash_wrapper.run_cases(launcher=\"nohup launchSwash.sh\", num_workers=30)\n",
    "\n",
    "swash_wrapper.run_cases_bulk(launcher=\"sbatch --array=0-799 /home/grupos/geocean/valvanuz/HySwash/SlurmChy.sh\")\n",
    "\n",
    "failed_runs=swash_wrapper.monitor_cases()\n"
   ]
  },
  {
   "cell_type": "markdown",
   "metadata": {},
   "source": [
    "Modify nodes_per_wavelength and rerun failed cases"
   ]
  },
  {
   "cell_type": "code",
   "execution_count": null,
   "metadata": {},
   "outputs": [],
   "source": [
    "failedRuns=[20,30,34,36,42,64,90,94,99,110,125,153,170,210,248,270,282,362,403,440,483,497,499,506,517,527,567,578,580,591,607,626,632,677,699,714,724,725,762,765]\n",
    "swash_wrapper.build_cases(mode=\"one_by_one\",cases_to_build=failedRuns)\n",
    "swash_wrapper.run_cases_bulk(launcher=\"sbatch --array=20,30,34,36,42,64,90,94,99,110,125,153,170,210,248,270,282,362,403,440,483,497,499,506,517,527,567,578,580,591,607,626,632,677,699,714,724,725,762,765 /home/grupos/geocean/valvanuz/HySwash/SlurmChy.sh\")\n",
    "failedRuns2=[16,20,64,90,94,117,238,326,457,483,607,649,765,768]"
   ]
  },
  {
   "cell_type": "markdown",
   "metadata": {},
   "source": [
    "Check failed runs are not correlated"
   ]
  },
  {
   "cell_type": "code",
   "execution_count": null,
   "metadata": {},
   "outputs": [],
   "source": [
    "from copy import deepcopy\n",
    "mda_failed=deepcopy(mda)\n",
    "mda_failed.centroids = mda.centroids.iloc[failedRuns2]\n",
    "mda_failed.plot_selected_centroids()"
   ]
  },
  {
   "cell_type": "markdown",
   "metadata": {},
   "source": [
    "Remove folders whose output files do not correspond with the case_num"
   ]
  },
  {
   "cell_type": "code",
   "execution_count": null,
   "metadata": {},
   "outputs": [],
   "source": [
    "# Remove folders whose output files do not correspond with the case_num\n",
    "folders = os.listdir(output_dir)\n",
    "for folder in folders:\n",
    "    # Get the name of the folder\n",
    "    folder_path = os.path.join(output_dir, folder)\n",
    "    # Get the name of the output files\n",
    "    try:\n",
    "        a=xr.open_dataset(folder_path + \"/output_postprocessed.nc\")\n",
    "        if int(a.case_num.values[0]) != int(folder):\n",
    "            print(\"rm -f %s/*.nc\"%(folder))\n",
    "    except:\n",
    "        pass"
   ]
  },
  {
   "cell_type": "markdown",
   "metadata": {},
   "source": [
    "Check there are no Nans in postprocessed Output"
   ]
  },
  {
   "cell_type": "code",
   "execution_count": null,
   "metadata": {},
   "outputs": [],
   "source": [
    "# Check if there are any NaN values in the postprocessed data\n",
    "# For every case_num in postprocessed dataset\n",
    "for case_num in postprocessed.case_num.values:\n",
    "    postprocessed_case = postprocessed.sel(case_num=case_num)\n",
    "    for var in postprocessed_case.data_vars:\n",
    "        if postprocessed_case[var].isnull().values.any():\n",
    "            # print the variable name and the first occurrence of NaN\n",
    "            nan_indices = np.where(np.isnan(postprocessed_case[var].values))\n",
    "            print(f\"{var} contains NaN values at indices: {case_num}\")"
   ]
  },
  {
   "cell_type": "markdown",
   "metadata": {},
   "source": [
    "Check there are no Nans in postprocessed output"
   ]
  },
  {
   "cell_type": "code",
   "execution_count": null,
   "metadata": {},
   "outputs": [],
   "source": [
    "# Check if there are any NaN values in the postprocessed data\n",
    "# For every case_num in postprocessed dataset\n",
    "for case_num in postprocessed.case_num.values:\n",
    "    postprocessed_case = postprocessed.sel(case_num=case_num)\n",
    "    for var in postprocessed_case.data_vars:\n",
    "        if postprocessed_case[var].isnull().values.any():\n",
    "            # print the variable name and the first occurrence of NaN\n",
    "            nan_indices = np.where(np.isnan(postprocessed_case[var].values))\n",
    "            print(f\"{var} contains NaN values at indices: {case_num}\")"
   ]
  }
 ],
 "metadata": {
  "kernelspec": {
   "display_name": "bluemath_dev",
   "language": "python",
   "name": "python3"
  },
  "language_info": {
   "codemirror_mode": {
    "name": "ipython",
    "version": 3
   },
   "file_extension": ".py",
   "mimetype": "text/x-python",
   "name": "python",
   "nbconvert_exporter": "python",
   "pygments_lexer": "ipython3",
   "version": "3.13.2"
  }
 },
 "nbformat": 4,
 "nbformat_minor": 2
}
