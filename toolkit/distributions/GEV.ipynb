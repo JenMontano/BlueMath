{
 "cells": [
  {
   "cell_type": "markdown",
   "id": "67c07605",
   "metadata": {},
   "source": [
    "# Generalized Extreme Value (GEV) distribution\n",
    "\n",
    "In this notebook an example of how to use the functions associated to the GEV distribution will be shown"
   ]
  },
  {
   "cell_type": "code",
   "execution_count": 1,
   "id": "f34c99c3",
   "metadata": {},
   "outputs": [],
   "source": [
    "import numpy as np\n",
    "from bluemath_tk.distributions.gev import gev"
   ]
  },
  {
   "cell_type": "markdown",
   "id": "f73bc32a",
   "metadata": {},
   "source": [
    "Common distribution methods."
   ]
  },
  {
   "cell_type": "code",
   "execution_count": 2,
   "id": "e483a32d",
   "metadata": {},
   "outputs": [
    {
     "data": {
      "text/plain": [
       "{'mean': 1.6176583190738754,\n",
       " 'median': 1.3359810891121353,\n",
       " 'variance': 1.8032552692986161,\n",
       " 'std': 1.3428534057366859}"
      ]
     },
     "execution_count": 2,
     "metadata": {},
     "output_type": "execute_result"
    }
   ],
   "source": [
    "loc = 1.0\n",
    "scale = 0.9\n",
    "shape = 0.1\n",
    "random_state = 42\n",
    "\n",
    "# Generate a random sample from GEV distribution\n",
    "x = gev.random(1000, loc=loc, scale=scale, shape=shape, random_state=random_state)\n",
    "\n",
    "x_pdf = gev.pdf(x, loc=loc, scale=scale, shape=shape)   # Probability Density Function\n",
    "x_cdf = gev.cdf(x, loc=loc, scale=scale, shape=shape)   # Cumulative Distribution Function\n",
    "x_ppf = gev.qf(x_cdf, loc=loc, scale=scale, shape=shape)  # Percent-Point Function (Quantile Function)\n",
    "x_sf = gev.sf(x, loc=loc, scale=scale, shape=shape)     # Survival Function\n",
    "x_stats = gev.stats(loc=loc, scale=scale, shape=shape)  # Mean, Variance, Skewness, Kurtosis\n",
    "x_stats"
   ]
  },
  {
   "cell_type": "markdown",
   "id": "c4a09931",
   "metadata": {},
   "source": [
    "Fitting the data"
   ]
  },
  {
   "cell_type": "code",
   "execution_count": null,
   "id": "4b76f426",
   "metadata": {},
   "outputs": [
    {
     "name": "stdout",
     "output_type": "stream",
     "text": [
      "Fitting results for Generalized Extreme Value (GEV):\n",
      "--------------------------------------\n",
      "Parameters:\n",
      "   - location: 0.9604\n",
      "   - scale: 0.8740\n",
      "   - shape: 0.1177\n",
      "Negative Log-Likelihood value: 1511.7074\n",
      "Optimization terminated successfully.\n"
     ]
    }
   ],
   "source": [
    "fit_result = gev.fit(data = x)  # Fit the GEV distribution to the data\n",
    "fit_result.summary()  "
   ]
  },
  {
   "cell_type": "code",
   "execution_count": null,
   "id": "faba4cec",
   "metadata": {},
   "outputs": [],
   "source": []
  }
 ],
 "metadata": {
  "kernelspec": {
   "display_name": "bluemath_dev",
   "language": "python",
   "name": "python3"
  },
  "language_info": {
   "codemirror_mode": {
    "name": "ipython",
    "version": 3
   },
   "file_extension": ".py",
   "mimetype": "text/x-python",
   "name": "python",
   "nbconvert_exporter": "python",
   "pygments_lexer": "ipython3",
   "version": "3.12.9"
  }
 },
 "nbformat": 4,
 "nbformat_minor": 5
}
