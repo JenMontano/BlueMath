{
 "cells": [
  {
   "cell_type": "markdown",
   "metadata": {},
   "source": [
    "# BlueMath-tk Model Wrapper Tutorial: Parametric Study Setup\n",
    "\n",
    "This notebook demonstrates how to use BlueMath-tk's Model Wrapper system to set up and execute parametric studies with numerical models. We'll use a `DummyModelWrapper` as an example, but the same principles apply to real model wrappers like SWASH, SWAN, Delft3D, etc."
   ]
  },
  {
   "cell_type": "markdown",
   "metadata": {},
   "source": [
    "## 1. Import Required Libraries\n",
    "\n",
    "We start by importing the necessary modules for our parametric study setup."
   ]
  },
  {
   "cell_type": "code",
   "execution_count": 4,
   "metadata": {},
   "outputs": [],
   "source": [
    "from bluemath_tk.wrappers._base_wrappers import DummyModelWrapper\n",
    "import pandas as pd\n",
    "import itertools"
   ]
  },
  {
   "cell_type": "markdown",
   "metadata": {},
   "source": [
    "## 2. Define Parameter Space\n",
    "\n",
    "The first step is defining the parameter space for our study. Each parameter can have multiple values that we want to test in different combinations."
   ]
  },
  {
   "cell_type": "code",
   "execution_count": 5,
   "metadata": {},
   "outputs": [
    {
     "name": "stdout",
     "output_type": "stream",
     "text": [
      "Parameter space defined:\n",
      "  manning: [1, 2, 3]\n",
      "  alpha: [4, 5, 6]\n",
      "  dy: [0.1, 0.2]\n"
     ]
    }
   ],
   "source": [
    "fields = {\n",
    "    \"manning\": [1, 2, 3],      # Manning roughness coefficient values\n",
    "    \"alpha\": [4, 5, 6],        # Alpha parameter values  \n",
    "    \"dy\": [0.1, 0.2]           # Grid spacing values\n",
    "}\n",
    "\n",
    "print(\"Parameter space defined:\")\n",
    "for param, values in fields.items():\n",
    "    print(f\"  {param}: {values}\")"
   ]
  },
  {
   "cell_type": "markdown",
   "metadata": {},
   "source": [
    "We use `itertools.product()` to create all possible combinations of parameter values. This creates a Cartesian product - every combination of parameters will be tested."
   ]
  },
  {
   "cell_type": "code",
   "execution_count": 6,
   "metadata": {},
   "outputs": [
    {
     "name": "stdout",
     "output_type": "stream",
     "text": [
      "Total number of combinations: 18\n",
      "First 3 combinations:\n",
      "  Combination 1: {'manning': 1, 'alpha': 4, 'dy': 0.1}\n",
      "  Combination 2: {'manning': 1, 'alpha': 4, 'dy': 0.2}\n",
      "  Combination 3: {'manning': 1, 'alpha': 5, 'dy': 0.1}\n"
     ]
    }
   ],
   "source": [
    "# Get parameter names and create all combinations\n",
    "keys = fields.keys()\n",
    "combinations = list(itertools.product(*fields.values()))\n",
    "\n",
    "print(f\"Total number of combinations: {len(combinations)}\")\n",
    "print(\"First 3 combinations:\")\n",
    "for i, combo in enumerate(combinations[:3]):\n",
    "    print(f\"  Combination {i+1}: {dict(zip(keys, combo))}\")"
   ]
  },
  {
   "cell_type": "markdown",
   "metadata": {},
   "source": [
    "We convert the combinations to a pandas DataFrame for easier manipulation and add any derived parameters (like `nmax` calculated from `dy`)."
   ]
  },
  {
   "cell_type": "code",
   "execution_count": 7,
   "metadata": {},
   "outputs": [
    {
     "name": "stdout",
     "output_type": "stream",
     "text": [
      "Parameter combinations DataFrame:\n",
      "   manning  alpha   dy  nmax\n",
      "0        1      4  0.1  0.05\n",
      "1        1      4  0.2  0.10\n",
      "2        1      5  0.1  0.05\n",
      "3        1      5  0.2  0.10\n",
      "4        1      6  0.1  0.05\n",
      "\n",
      "DataFrame shape: (18, 4)\n"
     ]
    }
   ],
   "source": [
    "# Create DataFrame from combinations\n",
    "df = pd.DataFrame(combinations, columns=keys)\n",
    "\n",
    "# Add derived parameter\n",
    "df[\"nmax\"] = 0.5 * df[\"dy\"]\n",
    "\n",
    "print(\"Parameter combinations DataFrame:\")\n",
    "print(df.head())\n",
    "print(f\"\\nDataFrame shape: {df.shape}\")"
   ]
  },
  {
   "cell_type": "markdown",
   "metadata": {},
   "source": [
    "The Model Wrapper expects parameters in dictionary format where each key maps to a list of values. We convert our DataFrame to this format."
   ]
  },
  {
   "cell_type": "code",
   "execution_count": 8,
   "metadata": {},
   "outputs": [
    {
     "name": "stdout",
     "output_type": "stream",
     "text": [
      "Metamodel parameters format:\n",
      "  manning: [1, 1, 1]... (showing first 3 values)\n",
      "  alpha: [4, 4, 5]... (showing first 3 values)\n",
      "  dy: [0.1, 0.2, 0.1]... (showing first 3 values)\n",
      "  nmax: [0.05, 0.1, 0.05]... (showing first 3 values)\n"
     ]
    }
   ],
   "source": [
    "# Convert DataFrame to dictionary format expected by model wrapper\n",
    "metamodel_parameters = df.to_dict('list')\n",
    "\n",
    "print(\"Metamodel parameters format:\")\n",
    "for param, values in metamodel_parameters.items():\n",
    "    print(f\"  {param}: {values[:3]}... (showing first 3 values)\")"
   ]
  },
  {
   "cell_type": "markdown",
   "metadata": {},
   "source": [
    "## 3. Set Up Directory Structure and Fixed Parameters\n",
    "\n",
    "Define where templates are stored, where outputs should go, and any parameters that remain constant across all model runs."
   ]
  },
  {
   "cell_type": "code",
   "execution_count": 9,
   "metadata": {},
   "outputs": [
    {
     "name": "stdout",
     "output_type": "stream",
     "text": [
      "Templates directory: /vols/abedul/home/grupos/valvanuz/HySwash/BlueMath/toolkit/wrappers/DummyTemplates\n",
      "Output directory: /vols/abedul/home/grupos/valvanuz/HySwash/BlueMath/toolkit/wrappers/DummyOutput\n",
      "Fixed parameters: {'advection': 1}\n"
     ]
    }
   ],
   "source": [
    "# Set root_dir to cwd for the model wrapper\n",
    "import os\n",
    "root_dir = os.getcwd()  # Use current working directory as root directory\n",
    "templates_dir = os.path.join(root_dir,\"DummyTemplates\")          # Directory containing input file templates\n",
    "output_dir = os.path.join(root_dir,\"DummyOutput\")                # Directory for model outputs\n",
    "fixed_parameters = {\"advection\": 1}                         # Parameters that don't vary\n",
    "\n",
    "print(f\"Templates directory: {templates_dir}\")\n",
    "print(f\"Output directory: {output_dir}\")\n",
    "print(f\"Fixed parameters: {fixed_parameters}\")"
   ]
  },
  {
   "cell_type": "markdown",
   "metadata": {},
   "source": [
    "## 4. Initialize the Model Wrapper\n",
    "\n",
    "Create an instance of the model wrapper with our configuration. The wrapper will handle case generation, template rendering, and model execution."
   ]
  },
  {
   "cell_type": "code",
   "execution_count": 12,
   "metadata": {},
   "outputs": [
    {
     "name": "stdout",
     "output_type": "stream",
     "text": [
      "Number of case directories created: 18\n",
      "First 3 case directories:\n",
      "  Case 1: /vols/abedul/home/grupos/valvanuz/HySwash/BlueMath/toolkit/wrappers/DummyOutput/0000\n",
      "  Case 2: /vols/abedul/home/grupos/valvanuz/HySwash/BlueMath/toolkit/wrappers/DummyOutput/0001\n",
      "  Case 3: /vols/abedul/home/grupos/valvanuz/HySwash/BlueMath/toolkit/wrappers/DummyOutput/0002\n"
     ]
    }
   ],
   "source": [
    "hurrywaves_model = DummyModelWrapper(\n",
    "    templates_dir=templates_dir,\n",
    "    metamodel_parameters=metamodel_parameters,\n",
    "    fixed_parameters=fixed_parameters,\n",
    "    output_dir=output_dir,\n",
    ")\n",
    "\n",
    "hurrywaves_model.build_cases(mode=\"one_by_one\")\n",
    "\n",
    "print(f\"Number of case directories created: {len(hurrywaves_model.cases_dirs)}\")\n",
    "print(\"First 3 case directories:\")\n",
    "for i, case_dir in enumerate(hurrywaves_model.cases_dirs[:3]):\n",
    "    print(f\"  Case {i+1}: {case_dir}\")"
   ]
  },
  {
   "cell_type": "markdown",
   "metadata": {},
   "source": [
    "## 9. Execute Model Runs in Bulk\n",
    "\n",
    "The `run_cases_bulk()` method executes all cases using a single command. Here we're using SLURM's job array feature to run cases in parallel on a cluster."
   ]
  },
  {
   "cell_type": "code",
   "execution_count": null,
   "metadata": {},
   "outputs": [],
   "source": [
    "# Execute all cases using SLURM job arrays\n",
    "hurrywaves_model.run_cases_bulk(\n",
    "    launcher=\"sbatch --array=0-799 launcher.sh\"\n",
    ")\n",
    "\n",
    "print(\"Bulk execution command submitted!\")"
   ]
  },
  {
   "cell_type": "markdown",
   "metadata": {},
   "source": [
    "## Understanding the Workflow\n",
    "\n",
    "### What happens behind the scenes:\n",
    "\n",
    "1. **Case Generation**: Each parameter combination becomes a separate case with its own directory\n",
    "2. **Template Rendering**: Input file templates are filled with parameter values using Jinja2\n",
    "3. **Bulk Execution**: All cases are submitted as a job array to the cluster scheduler\n",
    "\n",
    "### Key Concepts:\n",
    "\n",
    "- **Metamodel Parameters**: Variables that change between cases (our parameter space)\n",
    "- **Fixed Parameters**: Constants that remain the same across all cases  \n",
    "- **Templates**: Jinja2 template files that get rendered with parameter values\n",
    "- **Bulk Execution**: Running all cases with a single scheduler command\n",
    "\n",
    "### Alternative Execution Methods:\n",
    "\n",
    "Instead of `run_cases_bulk()`, you could also use:\n",
    "- `run_cases(launcher=\"serial\")` - Run cases sequentially\n",
    "- `run_cases(launcher=\"mpi\", num_workers=4)` - Run cases in parallel locally"
   ]
  },
  {
   "cell_type": "markdown",
   "metadata": {},
   "source": [
    "## Next Steps\n",
    "\n",
    "After model execution completes, you would typically:\n",
    "1. Use `postprocess_cases()` to extract results from model outputs\n",
    "2. Analyze the relationship between input parameters and model results\n",
    "3. Build metamodels or response surfaces from the data"
   ]
  }
 ],
 "metadata": {
  "kernelspec": {
   "display_name": "bluemath_dev",
   "language": "python",
   "name": "python3"
  },
  "language_info": {
   "codemirror_mode": {
    "name": "ipython",
    "version": 3
   },
   "file_extension": ".py",
   "mimetype": "text/x-python",
   "name": "python",
   "nbconvert_exporter": "python",
   "pygments_lexer": "ipython3",
   "version": "3.13.2"
  }
 },
 "nbformat": 4,
 "nbformat_minor": 4
}
